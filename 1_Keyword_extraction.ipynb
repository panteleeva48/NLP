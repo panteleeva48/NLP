{
 "cells": [
  {
   "cell_type": "code",
   "execution_count": 486,
   "metadata": {
    "collapsed": true
   },
   "outputs": [],
   "source": [
    "import json, os\n",
    "import pandas as pd\n",
    "from nltk.corpus import stopwords\n",
    "import numpy as np\n",
    "from pymorphy2 import MorphAnalyzer\n",
    "from collections import Counter\n",
    "from sklearn.feature_extraction.text import TfidfVectorizer\n",
    "morph = MorphAnalyzer()\n",
    "stops = set(stopwords.words('russian'))"
   ]
  },
  {
   "cell_type": "code",
   "execution_count": 4,
   "metadata": {
    "collapsed": true
   },
   "outputs": [],
   "source": [
    "pd.set_option('display.max_colwidth', 1000)"
   ]
  },
  {
   "cell_type": "markdown",
   "metadata": {},
   "source": [
    "## Данные"
   ]
  },
  {
   "cell_type": "markdown",
   "metadata": {},
   "source": [
    "Возьмем данные вот отсюда - https://github.com/mannefedov/ru_kw_eval_datasets Там лежат 4 датасета (статьи с хабра, с Russia Today, Независимой газеты и научные статьи с Киберленинки). Датасет НГ самый маленький, поэтому возьмем его в качестве примера."
   ]
  },
  {
   "cell_type": "code",
   "execution_count": 5,
   "metadata": {
    "collapsed": true
   },
   "outputs": [],
   "source": [
    "# скачаем данные в папке data и распакуем их\n",
    "PATH_TO_DATA = '/Users/irene/Downloads/autobreya/data'"
   ]
  },
  {
   "cell_type": "code",
   "execution_count": 6,
   "metadata": {},
   "outputs": [],
   "source": [
    "files = [os.path.join(PATH_TO_DATA, file) for file in os.listdir(PATH_TO_DATA)]"
   ]
  },
  {
   "cell_type": "code",
   "execution_count": 7,
   "metadata": {},
   "outputs": [
    {
     "data": {
      "text/plain": [
       "['/Users/irene/Downloads/autobreya/data/ng_0.jsonlines',\n",
       " '/Users/irene/Downloads/autobreya/data/ng_1.jsonlines']"
      ]
     },
     "execution_count": 7,
     "metadata": {},
     "output_type": "execute_result"
    }
   ],
   "source": [
    "files"
   ]
  },
  {
   "cell_type": "markdown",
   "metadata": {},
   "source": [
    "Объединим файлы в один датасет."
   ]
  },
  {
   "cell_type": "code",
   "execution_count": 8,
   "metadata": {
    "collapsed": true
   },
   "outputs": [],
   "source": [
    "data = pd.concat([pd.read_json(file, lines=True) for file in files], axis=0, ignore_index=True)"
   ]
  },
  {
   "cell_type": "code",
   "execution_count": 9,
   "metadata": {},
   "outputs": [
    {
     "data": {
      "text/plain": [
       "(1987, 5)"
      ]
     },
     "execution_count": 9,
     "metadata": {},
     "output_type": "execute_result"
    }
   ],
   "source": [
    "data.shape"
   ]
  },
  {
   "cell_type": "code",
   "execution_count": 10,
   "metadata": {},
   "outputs": [
    {
     "data": {
      "text/html": [
       "<div>\n",
       "<style scoped>\n",
       "    .dataframe tbody tr th:only-of-type {\n",
       "        vertical-align: middle;\n",
       "    }\n",
       "\n",
       "    .dataframe tbody tr th {\n",
       "        vertical-align: top;\n",
       "    }\n",
       "\n",
       "    .dataframe thead th {\n",
       "        text-align: right;\n",
       "    }\n",
       "</style>\n",
       "<table border=\"1\" class=\"dataframe\">\n",
       "  <thead>\n",
       "    <tr style=\"text-align: right;\">\n",
       "      <th></th>\n",
       "      <th>content</th>\n",
       "      <th>keywords</th>\n",
       "      <th>summary</th>\n",
       "      <th>title</th>\n",
       "      <th>url</th>\n",
       "    </tr>\n",
       "  </thead>\n",
       "  <tbody>\n",
       "    <tr>\n",
       "      <th>0</th>\n",
       "      <td>Многие интересуются, зачем нужна «Яблоку» молодежная фракция? Основной задачей «Молодежного «Яблока» является привлечение молодых людей к участию в выборах и деятельности партии. «Молодежное «Яблоко» работает более чем в 10 регионах. Единого руководства у нас нет, но мы стараемся координировать свою деятельность и периодически проводим акции на федеральном уровне.\\nМы ведем борьбу с обязательным воинским призывом. Военный – это профессия, а не обязанность. Молодые люди вправе сами распоряжаться своей жизнью и не терять целый год, отдавая государству «долг», который они у него не занимали. По мнению одного из ведущих специалистов в области оборонной политики Алексея Арбатова, переход на контрактную армию будет стоить лишь 2% военного бюджета.\\nТакже на федеральном уровне «Молодежное «Яблоко» проводило акции за освобождение политзаключенных и против вмешательства России во внутреннюю политику Украины.\\nРасскажу о московских активистах. Виктору Петрунину – 19 лет, он пришел к нам боль...</td>\n",
       "      <td>[яблоко, молодежь, молодежное яблоко]</td>\n",
       "      <td></td>\n",
       "      <td>\"Молодежное \"Яблоко\": оппозиционная деятельность становится опасной</td>\n",
       "      <td>http://www.ng.ru/ng_politics/2017-04-18/11_6976_apple.html</td>\n",
       "    </tr>\n",
       "    <tr>\n",
       "      <th>1</th>\n",
       "      <td>Вчера «Газпром» снизил верхнюю планку прогноза собственной добычи газа в 2020 году. Через 12 лет концерн собирается добывать около 620–640 млрд. куб. м в год. При этом общее производство газа в стране, по расчетам холдинга, должно достичь 940 млрд. куб. м. Иными словами, треть добываемого объема, по мнению холдинга, должны будут обеспечить независимые производители. Эксперты не верят, что независимые компании смогут выйти на такие объемы добычи. Если расчеты «Газпрома» не оправдаются, то под ударом окажутся отечественные предприятия и население, которым придется сокращать потребление и смириться с новым витком цен. Иных путей покрытия возможного дефицита газа нет, так как вряд ли холдинг разорвет уже заключенные контракты на экспорт газа в другие страны. \\n«Газпром» к 2020 году планирует добывать 620–640 млрд. куб. м газа, сообщил вчера на форуме «ТЭК России в ХХI веке» глава управления по добыче газа, газового конденсата и нефти холдинга Валерий Минликаев. Тем самым он уточнил пре...</td>\n",
       "      <td>[газпром, газ]</td>\n",
       "      <td></td>\n",
       "      <td>\"Газпрома\" на всех не хватит</td>\n",
       "      <td>http://www.ng.ru/economics/2008-04-03/1_gazprom.html</td>\n",
       "    </tr>\n",
       "    <tr>\n",
       "      <th>2</th>\n",
       "      <td>Долголетний труд Евгения Витковского на ниве перевода, а также в качестве редактора и антологиста известен многим. Но не все знают его как поэта и прозаика. В этом году уже вышла составленная им и Еленой Кистеровой антология  «Раздол туманов: Страницы шотландской гэльской поэзии XVII–XX вв.», а в апреле запланирован выход его романа «Протей, или Византийский кризис» (отрывок из романа читайте на с. 12). С \\n побеседовал \\n– Одна из таких книг только что вышла – «Раздол туманов. Страницы шотландской гэльской поэзии XVII–XX веков». Это стихи 29 поэтов, все в переводе с оригинала – моем и Елены Кистеровой. Работа заняла 10 лет, включая изучение языка. Она была упоительно интересной: до нас переводов из этой поэзии на русский не было вовсе. Сейчас должен выйти том стихотворений канадского классика Роберта Уильяма Сервиса, «канадского Киплинга», около 300 стихотворений. Кроме того, в Петербурге в производстве наш огромный трехтомный плод совместной работы – антология «Франция в сердце»....</td>\n",
       "      <td>[франсуа рабле, сервантес, шекспир, конан дойл, михаил булгаков, александр грин, борхес, босх, маркес, герман гессе, голландская живопись, гаргантюа и пантагрюэль, дон кихот, мастер и маргарита, москва, россия, история, поэзия, шотландия, баллада, пере]</td>\n",
       "      <td>Евгений Витковский о том, как Босх протягивает руку Шекспиру, \\r\\nи оба танцуют в пламени пожара в охваченном чумой средневековом городе</td>\n",
       "      <td>Бесконечная партия в четырехмерные  шахматы</td>\n",
       "      <td>http://www.ng.ru/person/2018-03-22/10_927_vitkovsky.html</td>\n",
       "    </tr>\n",
       "  </tbody>\n",
       "</table>\n",
       "</div>"
      ],
      "text/plain": [
       "                                                                                                                                                                                                                                                                                                                                                                                                                                                                                                                                                                                                                                                                                                                                                                                                                                                                                                                                                                                                                                   content  \\\n",
       "0  Многие интересуются, зачем нужна «Яблоку» молодежная фракция? Основной задачей «Молодежного «Яблока» является привлечение молодых людей к участию в выборах и деятельности партии. «Молодежное «Яблоко» работает более чем в 10 регионах. Единого руководства у нас нет, но мы стараемся координировать свою деятельность и периодически проводим акции на федеральном уровне.\\nМы ведем борьбу с обязательным воинским призывом. Военный – это профессия, а не обязанность. Молодые люди вправе сами распоряжаться своей жизнью и не терять целый год, отдавая государству «долг», который они у него не занимали. По мнению одного из ведущих специалистов в области оборонной политики Алексея Арбатова, переход на контрактную армию будет стоить лишь 2% военного бюджета.\\nТакже на федеральном уровне «Молодежное «Яблоко» проводило акции за освобождение политзаключенных и против вмешательства России во внутреннюю политику Украины.\\nРасскажу о московских активистах. Виктору Петрунину – 19 лет, он пришел к нам боль...   \n",
       "1  Вчера «Газпром» снизил верхнюю планку прогноза собственной добычи газа в 2020 году. Через 12 лет концерн собирается добывать около 620–640 млрд. куб. м в год. При этом общее производство газа в стране, по расчетам холдинга, должно достичь 940 млрд. куб. м. Иными словами, треть добываемого объема, по мнению холдинга, должны будут обеспечить независимые производители. Эксперты не верят, что независимые компании смогут выйти на такие объемы добычи. Если расчеты «Газпрома» не оправдаются, то под ударом окажутся отечественные предприятия и население, которым придется сокращать потребление и смириться с новым витком цен. Иных путей покрытия возможного дефицита газа нет, так как вряд ли холдинг разорвет уже заключенные контракты на экспорт газа в другие страны. \\n«Газпром» к 2020 году планирует добывать 620–640 млрд. куб. м газа, сообщил вчера на форуме «ТЭК России в ХХI веке» глава управления по добыче газа, газового конденсата и нефти холдинга Валерий Минликаев. Тем самым он уточнил пре...   \n",
       "2  Долголетний труд Евгения Витковского на ниве перевода, а также в качестве редактора и антологиста известен многим. Но не все знают его как поэта и прозаика. В этом году уже вышла составленная им и Еленой Кистеровой антология  «Раздол туманов: Страницы шотландской гэльской поэзии XVII–XX вв.», а в апреле запланирован выход его романа «Протей, или Византийский кризис» (отрывок из романа читайте на с. 12). С \\n побеседовал \\n– Одна из таких книг только что вышла – «Раздол туманов. Страницы шотландской гэльской поэзии XVII–XX веков». Это стихи 29 поэтов, все в переводе с оригинала – моем и Елены Кистеровой. Работа заняла 10 лет, включая изучение языка. Она была упоительно интересной: до нас переводов из этой поэзии на русский не было вовсе. Сейчас должен выйти том стихотворений канадского классика Роберта Уильяма Сервиса, «канадского Киплинга», около 300 стихотворений. Кроме того, в Петербурге в производстве наш огромный трехтомный плод совместной работы – антология «Франция в сердце»....   \n",
       "\n",
       "                                                                                                                                                                                                                                                        keywords  \\\n",
       "0                                                                                                                                                                                                                          [яблоко, молодежь, молодежное яблоко]   \n",
       "1                                                                                                                                                                                                                                                 [газпром, газ]   \n",
       "2  [франсуа рабле, сервантес, шекспир, конан дойл, михаил булгаков, александр грин, борхес, босх, маркес, герман гессе, голландская живопись, гаргантюа и пантагрюэль, дон кихот, мастер и маргарита, москва, россия, история, поэзия, шотландия, баллада, пере]   \n",
       "\n",
       "                                                                                                                                    summary  \\\n",
       "0                                                                                                                                             \n",
       "1                                                                                                                                             \n",
       "2  Евгений Витковский о том, как Босх протягивает руку Шекспиру, \\r\\nи оба танцуют в пламени пожара в охваченном чумой средневековом городе   \n",
       "\n",
       "                                                                 title  \\\n",
       "0  \"Молодежное \"Яблоко\": оппозиционная деятельность становится опасной   \n",
       "1                                         \"Газпрома\" на всех не хватит   \n",
       "2                          Бесконечная партия в четырехмерные  шахматы   \n",
       "\n",
       "                                                          url  \n",
       "0  http://www.ng.ru/ng_politics/2017-04-18/11_6976_apple.html  \n",
       "1        http://www.ng.ru/economics/2008-04-03/1_gazprom.html  \n",
       "2    http://www.ng.ru/person/2018-03-22/10_927_vitkovsky.html  "
      ]
     },
     "execution_count": 10,
     "metadata": {},
     "output_type": "execute_result"
    }
   ],
   "source": [
    "data.head(3)"
   ]
  },
  {
   "cell_type": "markdown",
   "metadata": {},
   "source": [
    "Каждой статье приписано какое-то количество ключевых слов. Допустим, что это единственно правильный набор ключевых слов (что конечно не так, но других данных у нас нет). Наша задача - придумать как извлекать точно такой же список автоматически.  \n",
    "Зададим несколько метрик, по которым будем определять качество извлекаемых ключевых слов - точность, полноту, ф1-меру и меру жаккарда."
   ]
  },
  {
   "cell_type": "code",
   "execution_count": 11,
   "metadata": {
    "collapsed": true
   },
   "outputs": [],
   "source": [
    "def evaluate(true_kws, predicted_kws):\n",
    "    assert len(true_kws) == len(predicted_kws)\n",
    "    \n",
    "    precisions = []\n",
    "    recalls = []\n",
    "    f1s = []\n",
    "    jaccards = []\n",
    "    \n",
    "    for i in range(len(true_kws)):\n",
    "        true_kw = set(true_kws[i])\n",
    "        predicted_kw = set(predicted_kws[i])\n",
    "        \n",
    "        tp = len(true_kw & predicted_kw)\n",
    "        union = len(true_kw | predicted_kw)\n",
    "        fp = len(predicted_kw - true_kw)\n",
    "        fn = len(true_kw - predicted_kw)\n",
    "        \n",
    "        if (tp+fp) == 0:\n",
    "            prec = 0\n",
    "        else:\n",
    "            prec = tp / (tp + fp)\n",
    "        \n",
    "        if (tp+fn) == 0:\n",
    "            rec = 0\n",
    "        else:\n",
    "            rec = tp / (tp + fn)\n",
    "        if (prec+rec) == 0:\n",
    "            f1 = 0\n",
    "        else:\n",
    "            f1 = (2*(prec*rec))/(prec+rec)\n",
    "            \n",
    "        jac = tp / union\n",
    "        \n",
    "        precisions.append(prec)\n",
    "        recalls.append(rec)\n",
    "        f1s.append(f1)\n",
    "        jaccards.append(jac)\n",
    "    print('Precision - ', round(np.mean(precisions), 2))\n",
    "    print('Recall - ', round(np.mean(recalls), 2))\n",
    "    print('F1 - ', round(np.mean(f1s), 2))\n",
    "    print('Jaccard - ', round(np.mean(jaccards), 2))\n",
    "    \n",
    "    \n",
    "        "
   ]
  },
  {
   "cell_type": "markdown",
   "metadata": {},
   "source": [
    "Проверим, что всё работает как надо."
   ]
  },
  {
   "cell_type": "code",
   "execution_count": 12,
   "metadata": {},
   "outputs": [
    {
     "name": "stdout",
     "output_type": "stream",
     "text": [
      "Precision -  1.0\n",
      "Recall -  1.0\n",
      "F1 -  1.0\n",
      "Jaccard -  1.0\n"
     ]
    }
   ],
   "source": [
    "evaluate(data['keywords'], data['keywords'])"
   ]
  },
  {
   "cell_type": "markdown",
   "metadata": {},
   "source": [
    "# Тупое решение."
   ]
  },
  {
   "cell_type": "markdown",
   "metadata": {},
   "source": [
    "Давайте не будем думать, а попробуем сразу придумать какое-то решение."
   ]
  },
  {
   "cell_type": "markdown",
   "metadata": {},
   "source": [
    "Возьмем первые 5 слов из заголовка."
   ]
  },
  {
   "cell_type": "code",
   "execution_count": 13,
   "metadata": {},
   "outputs": [
    {
     "name": "stdout",
     "output_type": "stream",
     "text": [
      "Precision -  0.06\n",
      "Recall -  0.05\n",
      "F1 -  0.05\n",
      "Jaccard -  0.03\n"
     ]
    }
   ],
   "source": [
    "evaluate(data['keywords'], data['title'].apply(lambda x: x.lower().split()[:5]))"
   ]
  },
  {
   "cell_type": "markdown",
   "metadata": {},
   "source": [
    "Или 10."
   ]
  },
  {
   "cell_type": "code",
   "execution_count": 14,
   "metadata": {},
   "outputs": [
    {
     "name": "stdout",
     "output_type": "stream",
     "text": [
      "Precision -  0.06\n",
      "Recall -  0.06\n",
      "F1 -  0.05\n",
      "Jaccard -  0.03\n"
     ]
    }
   ],
   "source": [
    "evaluate(data['keywords'], data['title'].apply(lambda x: x.lower().split()[:10]))"
   ]
  },
  {
   "cell_type": "markdown",
   "metadata": {},
   "source": [
    "Теперь попробуем взять самые частотные слова."
   ]
  },
  {
   "cell_type": "code",
   "execution_count": 15,
   "metadata": {},
   "outputs": [
    {
     "name": "stdout",
     "output_type": "stream",
     "text": [
      "Precision -  0.02\n",
      "Recall -  0.04\n",
      "F1 -  0.02\n",
      "Jaccard -  0.01\n"
     ]
    }
   ],
   "source": [
    "evaluate(data['keywords'], data['content'].apply(lambda x: \n",
    "                                                 [x[0] for x in Counter(x.lower().split()).most_common(10)]))"
   ]
  },
  {
   "cell_type": "markdown",
   "metadata": {},
   "source": [
    "Или вообще рандомные слова."
   ]
  },
  {
   "cell_type": "code",
   "execution_count": 16,
   "metadata": {},
   "outputs": [
    {
     "name": "stdout",
     "output_type": "stream",
     "text": [
      "Precision -  0.0\n",
      "Recall -  0.01\n",
      "F1 -  0.0\n",
      "Jaccard -  0.0\n"
     ]
    }
   ],
   "source": [
    "evaluate(data['keywords'], data['content'].apply(lambda x: \n",
    "                                                 np.random.choice(list(set(x.lower().split())), 10)))"
   ]
  },
  {
   "cell_type": "markdown",
   "metadata": {},
   "source": [
    "Теперь давайте посмотрим, что вообще извлекается."
   ]
  },
  {
   "cell_type": "code",
   "execution_count": 17,
   "metadata": {},
   "outputs": [
    {
     "data": {
      "text/plain": [
       "0                         [\"молодежное, \"яблоко\":, оппозиционная, деятельность, становится, опасной]\n",
       "1                                                                 [\"газпрома\", на, всех, не, хватит]\n",
       "2                                                   [бесконечная, партия, в, четырехмерные, шахматы]\n",
       "3    [экс-депутат,, осужденная, за, фальсификацию, выборов,, оказалась, членом, \"боевого, братства\"]\n",
       "4                               [новая, москва, останется, территорией, экологической, безопасности]\n",
       "5                                [f1., гран-при, сша, прошел, без, четырех, машин, и, со, «стопкой»]\n",
       "6                                          [100, ведущих, политиков, россии, в, феврале, 2018, года]\n",
       "7                                               [закон, \"о, культуре\", принимают, на, фоне, арестов]\n",
       "8                                    [насколько, реальна, газовая, подоплека, сирийского, конфликта]\n",
       "9                                  [фсб:, в, калужской, области, задержаны, четверо, участников, иг]\n",
       "Name: title, dtype: object"
      ]
     },
     "execution_count": 17,
     "metadata": {},
     "output_type": "execute_result"
    }
   ],
   "source": [
    "data['title'].apply(lambda x: x.lower().split()[:10]).head(10)"
   ]
  },
  {
   "cell_type": "code",
   "execution_count": 18,
   "metadata": {},
   "outputs": [
    {
     "data": {
      "text/plain": [
       "0                                                      [в, и, на, не, что, –, его, «молодежное, с, это]\n",
       "1                                                            [в, и, на, –, млрд., куб., по, к, газа, м]\n",
       "2                                                                 [в, –, и, не, я, но, что, это, на, с]\n",
       "3                                                       [в, на, и, ким, по, –, что, видео, он, зинаиды]\n",
       "4                                              [в, и, на, новой, площадью, москвы, –, развития, с, для]\n",
       "5                                                             [в, на, и, не, с, но, уже, что, у, гонки]\n",
       "6                                                  [на, в, (с, место)., и, рф, позиции, влияние, по, с]\n",
       "7                                                        [в, и, –, по, с, культуре, не, из, будет, как]\n",
       "8                                                              [в, и, на, с, что, для, по, –, не, газа]\n",
       "9    [в, рф, террористической, организации, задержаны, –, четверо, участников, запрещенной, «исламское]\n",
       "Name: content, dtype: object"
      ]
     },
     "execution_count": 18,
     "metadata": {},
     "output_type": "execute_result"
    }
   ],
   "source": [
    "data['content'].apply(lambda x: [x[0] for x in Counter(x.lower().split()).most_common(10)]).head(10)"
   ]
  },
  {
   "cell_type": "markdown",
   "metadata": {},
   "source": [
    "Когда извлекаются частотные слова, то список почти полностью состоит из всяких стоп-слов. Также из-за плохой токенизации некоторые слова в обоих списках - пунктуация или слова с пунктуацией на концах. К тому же извлекаемые слова ненормализованы, а правильные ключевые слова - наоборот."
   ]
  },
  {
   "cell_type": "markdown",
   "metadata": {},
   "source": [
    "## Токенизация, удаление стоп-слов и нормализация."
   ]
  },
  {
   "cell_type": "code",
   "execution_count": 19,
   "metadata": {
    "collapsed": true
   },
   "outputs": [],
   "source": [
    "from string import punctuation\n",
    "from nltk.corpus import stopwords\n",
    "punct = punctuation+'«»—…“”*№–'\n",
    "stops = set(stopwords.words('russian'))\n",
    "\n",
    "def normalize(text):\n",
    "    \n",
    "    words = [word.strip(punct) for word in text.lower().split()]\n",
    "    words = [morph.parse(word)[0].normal_form for word in words if word and word not in stops]\n",
    "\n",
    "    return words"
   ]
  },
  {
   "cell_type": "code",
   "execution_count": 20,
   "metadata": {
    "collapsed": true
   },
   "outputs": [],
   "source": [
    "data['content_norm'] = data['content'].apply(normalize)"
   ]
  },
  {
   "cell_type": "code",
   "execution_count": 21,
   "metadata": {
    "collapsed": true
   },
   "outputs": [],
   "source": [
    "data['title_norm'] = data['title'].apply(normalize)"
   ]
  },
  {
   "cell_type": "code",
   "execution_count": 22,
   "metadata": {},
   "outputs": [
    {
     "data": {
      "text/plain": [
       "0            [молодёжный, яблоко, оппозиционный, деятельность, становиться, опасный]\n",
       "1                                                                 [газпром, хватить]\n",
       "2                                      [бесконечный, партия, четырехмерный, шахматы]\n",
       "3    [экс-депутат, осудить, фальсификация, выбор, оказаться, член, боевой, братство]\n",
       "4                 [новый, москва, остаться, территория, экологический, безопасность]\n",
       "5                         [f1, гран-при, сша, пройти, четыре, машина, стопка, штраф]\n",
       "6                                [100, ведущий, политик, россия, февраль, 2018, год]\n",
       "7                                           [закон, культура, принимать, фон, арест]\n",
       "8                     [насколько, реальный, газовый, подоплёка, сирийский, конфликт]\n",
       "9                       [фсб, калужский, область, задержать, четверо, участник, иго]\n",
       "Name: title_norm, dtype: object"
      ]
     },
     "execution_count": 22,
     "metadata": {},
     "output_type": "execute_result"
    }
   ],
   "source": [
    "data['title_norm'].head(10)"
   ]
  },
  {
   "cell_type": "markdown",
   "metadata": {},
   "source": [
    "Попробуем те же самые методы."
   ]
  },
  {
   "cell_type": "code",
   "execution_count": 23,
   "metadata": {},
   "outputs": [
    {
     "name": "stdout",
     "output_type": "stream",
     "text": [
      "Precision -  0.11\n",
      "Recall -  0.22\n",
      "F1 -  0.14\n",
      "Jaccard -  0.08\n"
     ]
    }
   ],
   "source": [
    "# топ 10 частотных слов статьи\n",
    "evaluate(data['keywords'], data['content_norm'].apply(lambda x: [x[0] for x in Counter(x).most_common(10)]))"
   ]
  },
  {
   "cell_type": "code",
   "execution_count": 24,
   "metadata": {},
   "outputs": [
    {
     "name": "stdout",
     "output_type": "stream",
     "text": [
      "Precision -  0.13\n",
      "Recall -  0.13\n",
      "F1 -  0.12\n",
      "Jaccard -  0.07\n"
     ]
    }
   ],
   "source": [
    "evaluate(data['keywords'],data['title_norm'].apply(lambda x: x[:10]))"
   ]
  },
  {
   "cell_type": "markdown",
   "metadata": {},
   "source": [
    "Качество сильно улучшилось! Можно теперь ещё раз посмотреть, что плохого извлекается."
   ]
  },
  {
   "cell_type": "code",
   "execution_count": 25,
   "metadata": {},
   "outputs": [
    {
     "data": {
      "text/plain": [
       "0                         [яблоко, молодёжный, который, акция, год, активист, это, деятельность, политика, наш]\n",
       "1                               [миллиард, газа, год, куб, метр, газпром, добыча, 2020, должный, производитель]\n",
       "2                                              [год, это, книга, роман, тот, писать, выйти, один, мир, перевод]\n",
       "3                                    [ким, зинаида, видео, год, журналист, суд, дело, бывший, футиный, который]\n",
       "4                         [площадь, территория, новый, москва, га, который, столица, тинао, парковый, развитие]\n",
       "5                                  [гонка, который, команда, место, позиция, два, один, из-за, круг, чемпионат]\n",
       "6                        [место, влияние, рф, позиция, глава, россия, президент, сергей, политический, рейтинг]\n",
       "7                 [культура, закон, который, сфера, стд, разработать, концепция, проект, изменение, сообщество]\n",
       "8                              [газопровод, сирия, год, турция, газа, россия, европа, катар, который, турецкий]\n",
       "9     [участник, рф, террористический, организация, задержать, цос, четверо, запретить, исламский, государство]\n",
       "10                            [тихон, стихомант, это, журибеда, старик, время, казак, сэмена, говорить, что-то]\n",
       "11                          [жильё, метр, кв, год, миллион, жилищный, население, строительство, спрос, прогноз]\n",
       "12                   [российский, театр, зритель, стать, кино, год, получить, хороший, результат, исследование]\n",
       "13                      [фестиваль, революция, фильм, ленин, награда, хороший, один, сахалин, посмотреть, роль]\n",
       "14                 [вечер, фёдоров, балашов, книга, который, виктория, произведение, женщина, женский, главный]\n",
       "15        [который, сирийский, переговоры, резолюция, оон, франция, сторона, макрон, французский, гуманитарный]\n",
       "16                                 [рф, суд, кс, запрос, постановление, право, человек, бывший, акционер, юкос]\n",
       "17                 [электромобиль, год, тысяча, кобальт, который, компания, аккумулятор, это, автомобиль, цена]\n",
       "18                              [хороший, фильм, оскар, год, один, главный, стать, который, женщина, церемония]\n",
       "19                       [сабина, нюрбургринг, трасса, fia, wtcc, участие, пилотесса, шмитц, гонка, автомобиль]\n",
       "Name: content_norm, dtype: object"
      ]
     },
     "execution_count": 25,
     "metadata": {},
     "output_type": "execute_result"
    }
   ],
   "source": [
    "data['content_norm'].apply(lambda x: [x[0] for x in Counter(x).most_common(10)]).head(20)"
   ]
  },
  {
   "cell_type": "markdown",
   "metadata": {},
   "source": [
    "Ещё остались некоторые стоп-слова. Вместо того, чтобы расширять список, давайте попробуем выкинуть несуществительные."
   ]
  },
  {
   "cell_type": "code",
   "execution_count": 26,
   "metadata": {
    "collapsed": true
   },
   "outputs": [],
   "source": [
    "def normalize(text):\n",
    "    \n",
    "    words = [word.strip(punct) for word in text.lower().split()]\n",
    "    words = [morph.parse(word)[0] for word in words if word and word not in stops]\n",
    "    words = [word.normal_form for word in words if word.tag.POS == 'NOUN']\n",
    "\n",
    "    return words"
   ]
  },
  {
   "cell_type": "code",
   "execution_count": 27,
   "metadata": {
    "collapsed": true
   },
   "outputs": [],
   "source": [
    "data['content_norm'] = data['content'].apply(normalize)"
   ]
  },
  {
   "cell_type": "code",
   "execution_count": 28,
   "metadata": {},
   "outputs": [
    {
     "name": "stdout",
     "output_type": "stream",
     "text": [
      "Precision -  0.13\n",
      "Recall -  0.25\n",
      "F1 -  0.16\n",
      "Jaccard -  0.1\n"
     ]
    }
   ],
   "source": [
    "evaluate(data['keywords'], data['content_norm'].apply(lambda x: [x[0] for x in Counter(x).most_common(10)]))"
   ]
  },
  {
   "cell_type": "markdown",
   "metadata": {},
   "source": [
    "Ещу улучшения!"
   ]
  },
  {
   "cell_type": "code",
   "execution_count": 29,
   "metadata": {},
   "outputs": [
    {
     "data": {
      "text/plain": [
       "0        [яблоко, акция, год, активист, деятельность, политика, власть, задача, молодая, человек]\n",
       "1               [миллиард, газа, год, куб, метр, газпром, добыча, производитель, страна, прогноз]\n",
       "2                [год, книга, роман, мир, перевод, стихотворение, читатель, жанр, поэзия, работа]\n",
       "3                     [ким, зинаида, видео, год, журналист, суд, дело, рубль, процесс, заседание]\n",
       "4                   [площадь, территория, москва, га, столица, тинао, развитие, парка, парк, год]\n",
       "5                    [гонка, команда, место, позиция, круг, чемпионат, пилот, бокс, заезд, льюис]\n",
       "6               [место, влияние, рф, позиция, глава, россия, президент, сергей, рейтинг, участие]\n",
       "7    [культура, закон, сфера, концепция, проект, изменение, сообщество, услуга, учреждение, дело]\n",
       "8                    [газопровод, сирия, год, турция, газа, россия, европа, катар, поток, проект]\n",
       "9                 [участник, рф, организация, государство, область, центр, связь, фсб, март, год]\n",
       "Name: content_norm, dtype: object"
      ]
     },
     "execution_count": 29,
     "metadata": {},
     "output_type": "execute_result"
    }
   ],
   "source": [
    "data['content_norm'].apply(lambda x: [x[0] for x in Counter(x).most_common(10)]).head(10)"
   ]
  },
  {
   "cell_type": "markdown",
   "metadata": {},
   "source": [
    "Не очень значимые слова все ещё остались. Давайте попробуем отсеять стоп-слова с помощью tfidf."
   ]
  },
  {
   "cell_type": "markdown",
   "metadata": {},
   "source": [
    "Воспользуемся TfidfVectorizer."
   ]
  },
  {
   "cell_type": "code",
   "execution_count": 30,
   "metadata": {
    "collapsed": true
   },
   "outputs": [],
   "source": [
    "data['content_norm_str'] = data['content_norm'].apply(' '.join)"
   ]
  },
  {
   "cell_type": "code",
   "execution_count": 31,
   "metadata": {
    "collapsed": true
   },
   "outputs": [],
   "source": [
    "# можно заодно сделать нграммы\n",
    "tfidf = TfidfVectorizer(ngram_range=(1,2), min_df=5)"
   ]
  },
  {
   "cell_type": "code",
   "execution_count": 32,
   "metadata": {},
   "outputs": [
    {
     "data": {
      "text/plain": [
       "TfidfVectorizer(analyzer='word', binary=False, decode_error='strict',\n",
       "        dtype=<class 'numpy.int64'>, encoding='utf-8', input='content',\n",
       "        lowercase=True, max_df=1.0, max_features=None, min_df=5,\n",
       "        ngram_range=(1, 2), norm='l2', preprocessor=None, smooth_idf=True,\n",
       "        stop_words=None, strip_accents=None, sublinear_tf=False,\n",
       "        token_pattern='(?u)\\\\b\\\\w\\\\w+\\\\b', tokenizer=None, use_idf=True,\n",
       "        vocabulary=None)"
      ]
     },
     "execution_count": 32,
     "metadata": {},
     "output_type": "execute_result"
    }
   ],
   "source": [
    "tfidf.fit(data['content_norm_str'])"
   ]
  },
  {
   "cell_type": "code",
   "execution_count": 33,
   "metadata": {
    "collapsed": true
   },
   "outputs": [],
   "source": [
    "id2word = {i:word for i,word in enumerate(tfidf.get_feature_names())}"
   ]
  },
  {
   "cell_type": "markdown",
   "metadata": {},
   "source": [
    "Преобразуем наши тексты в векторы, где на позиции i стоит tfidf коэффициент слова i из словаря."
   ]
  },
  {
   "cell_type": "code",
   "execution_count": 34,
   "metadata": {
    "collapsed": true
   },
   "outputs": [],
   "source": [
    "texts_vectors = tfidf.transform(data['content_norm_str'])"
   ]
  },
  {
   "cell_type": "markdown",
   "metadata": {},
   "source": [
    "Отсортируем векторы текстов по этим коэффициентам и возьмем топ-10."
   ]
  },
  {
   "cell_type": "code",
   "execution_count": 35,
   "metadata": {
    "collapsed": true
   },
   "outputs": [],
   "source": [
    "# сортировка по убыванию, поэтому нужно развернуть список\n",
    "keywords = [[id2word[w] for w in top] for top in texts_vectors.toarray().argsort()[:,:-11:-1]] "
   ]
  },
  {
   "cell_type": "code",
   "execution_count": 36,
   "metadata": {},
   "outputs": [
    {
     "data": {
      "text/plain": [
       "[['яблоко',\n",
       "  'активист',\n",
       "  'акция',\n",
       "  'дарья',\n",
       "  'деятельность',\n",
       "  'молодая человек',\n",
       "  'политика',\n",
       "  'виктор',\n",
       "  'тимур',\n",
       "  'репрессия'],\n",
       " ['миллиард куб',\n",
       "  'куб метр',\n",
       "  'куб',\n",
       "  'газпром',\n",
       "  'газа',\n",
       "  'миллиард',\n",
       "  'добыча',\n",
       "  'добыча газа',\n",
       "  'метр',\n",
       "  'холдинг'],\n",
       " ['роман',\n",
       "  'книга',\n",
       "  'жанр',\n",
       "  'стихотворение',\n",
       "  'читатель',\n",
       "  'перевод',\n",
       "  'год',\n",
       "  'поэзия',\n",
       "  'произведение',\n",
       "  'том']]"
      ]
     },
     "execution_count": 36,
     "metadata": {},
     "output_type": "execute_result"
    }
   ],
   "source": [
    "keywords[:3]"
   ]
  },
  {
   "cell_type": "code",
   "execution_count": 37,
   "metadata": {},
   "outputs": [
    {
     "name": "stdout",
     "output_type": "stream",
     "text": [
      "Precision -  0.13\n",
      "Recall -  0.25\n",
      "F1 -  0.16\n",
      "Jaccard -  0.09\n"
     ]
    }
   ],
   "source": [
    "evaluate(data['keywords'], keywords)"
   ]
  },
  {
   "cell_type": "markdown",
   "metadata": {},
   "source": [
    "Результат ещё немного улучшился. Немного подросла точность. Теперь вместо стоп-слов в ключевые попадают имена и все такое. Иногда это хорощо, а иногда нет (собянин - может быть ключевым словом, а дарья - вряд ли)"
   ]
  },
  {
   "cell_type": "markdown",
   "metadata": {},
   "source": [
    "Возьмем этот результат за baseline. "
   ]
  },
  {
   "cell_type": "markdown",
   "metadata": {},
   "source": [
    "Precision -  0.13\n",
    "Recall -  0.24\n",
    "F1 -  0.16\n",
    "Jaccard -  0.09"
   ]
  },
  {
   "cell_type": "markdown",
   "metadata": {},
   "source": [
    "## Попробуем графы!"
   ]
  },
  {
   "cell_type": "markdown",
   "metadata": {},
   "source": [
    "Большая часть методов для извлечения ключевых слов основана на применении графов. Основная идея - каким-то образом перевести текст в граф, а затем каким-то образом расчитать важность каждого узла и вывести топ-N самых важных узлов.  \n",
    "\n",
    "Перевод текста в граф -  не тривиальная задача. Часто применяют такой подход - построим матрицу совстречаемости слов (в каком-то окне), эта матрица будет нашей матрицей смежности."
   ]
  },
  {
   "cell_type": "markdown",
   "metadata": {},
   "source": [
    "Для выбора важных узлов часто используют простой randow walk. Алгоритм примерно такой:  \n",
    "1) Каким-то образом выбирается первый узел графа (например, случайно из равномерного распределения)  \n",
    "2) на основе связей этого узла с другими, выбирается следующий узел  \n",
    "3) шаг два повторяется некоторое количество раз (например, тысячу) __*чтобы не зацикливаться, с какой-то вероятностью мы случайно перескакиваем на другой узел (даже если он никак не связан с текущим, как в шаге 1)__  \n",
    "5) на каждом шаге мы сохраняем узел в котором находимся  \n",
    "6) в конце мы считаем в каких узлах мы были чаще всего и выводим top-N  \n",
    "\n",
    "\n",
    "Предполагается, что мы часто будем приходить в важные узлы графа."
   ]
  },
  {
   "cell_type": "code",
   "execution_count": 38,
   "metadata": {
    "collapsed": true
   },
   "outputs": [],
   "source": [
    "from itertools import combinations"
   ]
  },
  {
   "cell_type": "markdown",
   "metadata": {},
   "source": [
    "Для наглядности реализуем этот подход без networkx. "
   ]
  },
  {
   "cell_type": "code",
   "execution_count": 677,
   "metadata": {
    "collapsed": true
   },
   "outputs": [],
   "source": [
    "def get_kws(text, top=5, window_size=5, random_p=0.1, walks=500):\n",
    "\n",
    "    vocab = set(text)\n",
    "    word2id = {w:i for i, w in enumerate(vocab)}\n",
    "    id2word = {i:w for i, w in enumerate(vocab)}\n",
    "    # преобразуем слова в индексы для удобства\n",
    "    ids = [word2id[word] for word in text]\n",
    "\n",
    "    # создадим матрицу совстречаемости\n",
    "    m = np.zeros((len(vocab), len(vocab)))\n",
    "\n",
    "    # пройдемся окном по всему тексту\n",
    "    for i in range(0, len(ids), window_size):\n",
    "        window = ids[i:i+window_size]\n",
    "        # добавим единичку всем парам слов в этом окне\n",
    "        for j, k in combinations(window, 2):\n",
    "            # чтобы граф был ненаправленный \n",
    "            m[j][k] += 1\n",
    "            m[k][j] += 1\n",
    "    \n",
    "    # нормализуем строки, чтобы получилась вероятность перехода\n",
    "    for i in range(m.shape[0]):\n",
    "        m[i] /= np.sum(m[i])\n",
    "    \n",
    "    # случайно выберем первое слова, а затем будет выбирать на основе полученых распределений\n",
    "    # сделаем так 5 раз и добавим каждое слово в счетчик\n",
    "    # чтобы не забиться в одном круге, иногда будет перескакивать на случайное слово\n",
    "    \n",
    "    c = Counter()\n",
    "    # начнем с абсолютного случайно выбранного элемента\n",
    "    n = np.random.choice(len(vocab))\n",
    "    for i in range(walks): # если долго считается, можно уменьшить число проходов\n",
    "        \n",
    "        # c вероятностью random_p \n",
    "        # перескакиваем на другой узел\n",
    "        go_random = np.random.choice([0, 1], p=[1-random_p, random_p])\n",
    "        if go_random:\n",
    "            n = np.random.choice(len(vocab))\n",
    "        \n",
    "        n = take_step(n, m)\n",
    "        # записываем узлы, в которых были\n",
    "        c.update([n])\n",
    "    \n",
    "    # вернем топ-N наиболее часто встретившихся сл\n",
    "    return [id2word[i] for i, count in c.most_common(top)]\n",
    "\n",
    "def take_step(n, matrix):\n",
    "    rang = len(matrix[n])\n",
    "    # выбираем узел из заданного интервала, на основе распределения из матрицы совстречаемости\n",
    "    next_n = np.random.choice(range(rang), p=matrix[n])\n",
    "    return next_n\n",
    "    \n"
   ]
  },
  {
   "cell_type": "code",
   "execution_count": 678,
   "metadata": {},
   "outputs": [
    {
     "name": "stdout",
     "output_type": "stream",
     "text": [
      "CPU times: user 1min 50s, sys: 1.17 s, total: 1min 51s\n",
      "Wall time: 1min 52s\n"
     ]
    }
   ],
   "source": [
    "%%time\n",
    "keywords_rw = data['content_norm'].apply(lambda x: get_kws(x, 10, 10))"
   ]
  },
  {
   "cell_type": "code",
   "execution_count": 679,
   "metadata": {},
   "outputs": [
    {
     "name": "stdout",
     "output_type": "stream",
     "text": [
      "Precision -  0.11\n",
      "Recall -  0.21\n",
      "F1 -  0.14\n",
      "Jaccard -  0.08\n"
     ]
    }
   ],
   "source": [
    "evaluate(data['keywords'], keywords_rw)"
   ]
  },
  {
   "cell_type": "code",
   "execution_count": 42,
   "metadata": {},
   "outputs": [
    {
     "data": {
      "text/plain": [
       "0    [акция, яблоко, активист, год, деятельность, уважение, освобождение, обязательство, страна, политика]\n",
       "1                      [газа, куб, метр, год, газпром, население, добыча, миллиард, производитель, страна]\n",
       "2                               [год, роман, книга, поэзия, сюжет, работа, перевод, поэт, наследник, рука]\n",
       "3                [ким, видео, зинаида, монтаж, процесс, подсудимая, сайт, свидетель, заседание, журналист]\n",
       "4                            [га, площадь, столица, москва, парк, территория, парка, развитие, год, спорт]\n",
       "5                          [гонка, позиция, место, этап, команда, строчка, чемпионат, балл, пилот, замена]\n",
       "6                       [место, позиция, рф, влияние, глава, сергей, институт, россия, эксперт, политолог]\n",
       "7           [закон, культура, сфера, внесение, концепция, услуга, сообщество, изменение, учреждение, срок]\n",
       "8                               [газопровод, сирия, европа, газа, катар, турция, год, поток, россия, иран]\n",
       "9                [участник, организация, рф, государство, центр, март, подготовка, округа, связь, область]\n",
       "Name: content_norm, dtype: object"
      ]
     },
     "execution_count": 42,
     "metadata": {},
     "output_type": "execute_result"
    }
   ],
   "source": [
    "keywords_rw.head(10)"
   ]
  },
  {
   "cell_type": "markdown",
   "metadata": {},
   "source": [
    "Попбруем теперь важность считать с помощью какой-нибудь метрики из networkx."
   ]
  },
  {
   "cell_type": "code",
   "execution_count": 684,
   "metadata": {
    "collapsed": true
   },
   "outputs": [],
   "source": [
    "import networkx as nx"
   ]
  },
  {
   "cell_type": "code",
   "execution_count": 725,
   "metadata": {
    "collapsed": true
   },
   "outputs": [],
   "source": [
    "def build_matrix(text, window_size=5):\n",
    "    vocab = set(text)\n",
    "    word2id = {w:i for i, w in enumerate(vocab)}\n",
    "    id2word = {i:w for i, w in enumerate(vocab)}\n",
    "    # преобразуем слова в индексы для удобства\n",
    "    ids = [word2id[word] for word in text]\n",
    "\n",
    "    # создадим матрицу совстречаемости\n",
    "    m = np.zeros((len(vocab), len(vocab)))\n",
    "\n",
    "    # пройдемся окном по всему тексту\n",
    "    for i in range(0, len(ids), window_size):\n",
    "        window = ids[i:i+window_size]\n",
    "        # добавим единичку всем парам слов в этом окне\n",
    "        for j, k in combinations(window, 2):\n",
    "            # чтобы граф был ненаправленный \n",
    "            m[j][k] += 1\n",
    "            m[k][j] += 1\n",
    "    \n",
    "    return m, id2word\n",
    "\n",
    "def some_centrality_measure(text, window_size=5, topn=5):\n",
    "    \n",
    "    matrix, id2word = build_matrix(text, window_size)\n",
    "    G = nx.from_numpy_array(matrix)\n",
    "    # тут можно поставить любую метрику\n",
    "    node2measure = dict(nx.degree(G))\n",
    "    #print(node2measure)\n",
    "    return [id2word[index] for index,measure in sorted(node2measure.items(), key=lambda x: -x[1])[:topn]]"
   ]
  },
  {
   "cell_type": "code",
   "execution_count": 726,
   "metadata": {},
   "outputs": [
    {
     "name": "stdout",
     "output_type": "stream",
     "text": [
      "CPU times: user 25.2 s, sys: 379 ms, total: 25.6 s\n",
      "Wall time: 26 s\n"
     ]
    }
   ],
   "source": [
    "%%time\n",
    "keyword_nx = data['content_norm'].apply(lambda x: some_centrality_measure(x, 10, 10))"
   ]
  },
  {
   "cell_type": "code",
   "execution_count": 702,
   "metadata": {},
   "outputs": [
    {
     "name": "stdout",
     "output_type": "stream",
     "text": [
      "Precision -  0.13\n",
      "Recall -  0.25\n",
      "F1 -  0.16\n",
      "Jaccard -  0.09\n"
     ]
    }
   ],
   "source": [
    "evaluate(data['keywords'], keyword_nx)"
   ]
  },
  {
   "cell_type": "markdown",
   "metadata": {},
   "source": [
    "Результаты не превосходят tfidf, но и не сильно уступают. Явно можно что-то доработать и превзойти baseline."
   ]
  },
  {
   "cell_type": "markdown",
   "metadata": {},
   "source": [
    "## Домашнее задание"
   ]
  },
  {
   "cell_type": "markdown",
   "metadata": {},
   "source": [
    "В семинаре установлен такой бейзлан - F1 -  0.16 (не будем учитывать точность и полноту по отдельности и отбросим жаккара)."
   ]
  },
  {
   "cell_type": "markdown",
   "metadata": {},
   "source": [
    "**Ваша задача - предложить 3 способа побить бейзлайн. **"
   ]
  },
  {
   "cell_type": "markdown",
   "metadata": {},
   "source": [
    "Нет никаких ограничений кроме:\n",
    "\n",
    "1) нельзя изменять метрику\n",
    "2) решение должно быть воспроизводимым"
   ]
  },
  {
   "cell_type": "markdown",
   "metadata": {},
   "source": [
    "В качестве ответа нужно предоставить jupyter тетрадку с экспериментами (обязательное условие!) и описать каждую из идей в форме - https://goo.gl/forms/Zb89yjXFr37EITMq1"
   ]
  },
  {
   "cell_type": "markdown",
   "metadata": {},
   "source": [
    "Каждый реализованный и описанный способ оценивается в 3 балла. Дополнительный балл можно получить, если способы затрагивают разные аспекты решения (например, первая идея - улучшить нормализацию, вторая - улучшить способ представления текста в виде графа, третья - предложить способ удаления из топа идентичных ключевых слов (рф, россия))."
   ]
  },
  {
   "cell_type": "markdown",
   "metadata": {},
   "source": [
    "Можно использовать мой код как основу, а можно придумать что-то полностью другой."
   ]
  },
  {
   "cell_type": "markdown",
   "metadata": {},
   "source": [
    "Если у вас никак не получается побить бейзлайн вы можете предоставить реализацию и описание неудавшихся экспериментов (каждый оценивается в 0.5 баллов)."
   ]
  },
  {
   "cell_type": "code",
   "execution_count": 656,
   "metadata": {
    "collapsed": true
   },
   "outputs": [],
   "source": [
    "from tqdm import tqdm_notebook as tqdm\n",
    "import nltk\n",
    "import collections\n",
    "import math\n",
    "import re\n",
    "from nltk.corpus import stopwords\n",
    "from nltk.tokenize import word_tokenize\n",
    "import string\n",
    "from pymystem3 import Mystem\n",
    "mystem = Mystem()\n",
    "import itertools"
   ]
  },
  {
   "cell_type": "markdown",
   "metadata": {},
   "source": [
    "# 1. Нормализация и нахождение tfidf"
   ]
  },
  {
   "cell_type": "markdown",
   "metadata": {},
   "source": [
    "Для лемматизации использую mystem. Считаю, что он лучше лемматизирует наши данные."
   ]
  },
  {
   "cell_type": "code",
   "execution_count": 291,
   "metadata": {
    "collapsed": true
   },
   "outputs": [],
   "source": [
    "def preprocessing(input_text, del_stopwords=True, del_digit=True):\n",
    "    \"\"\"\n",
    "    :input: raw text\n",
    "        1. lowercase, del punctuation, tokenize\n",
    "        2. normal form\n",
    "        3. del stopwords\n",
    "        4. del digits\n",
    "    :return: lemmas\n",
    "    \"\"\"\n",
    "    russian_stopwords = set(stopwords.words('russian'))\n",
    "    if del_digit:\n",
    "        input_text = re.sub('[0-9]', '', input_text)\n",
    "    words = [x.lower().strip(string.punctuation+'»«–…') for x in word_tokenize(input_text)]\n",
    "    lemmas = [mystem.lemmatize(x)[0] for x in words if x]\n",
    "\n",
    "    lemmas_arr = []\n",
    "    for lemma in lemmas:\n",
    "        if del_stopwords:\n",
    "            if lemma in russian_stopwords:\n",
    "                continue\n",
    "        lemmas_arr.append(lemma)\n",
    "    return lemmas_arr"
   ]
  },
  {
   "cell_type": "markdown",
   "metadata": {},
   "source": [
    "Считаю tfidf по всему корпусу."
   ]
  },
  {
   "cell_type": "code",
   "execution_count": 166,
   "metadata": {
    "collapsed": true
   },
   "outputs": [],
   "source": [
    "def compute_tf(text):\n",
    "    tf_text = collections.Counter(text)\n",
    "    for i in tf_text:\n",
    "        tf_text[i] = tf_text[i]/float(len(text))\n",
    "    return tf_text"
   ]
  },
  {
   "cell_type": "code",
   "execution_count": 167,
   "metadata": {
    "collapsed": true
   },
   "outputs": [],
   "source": [
    "def compute_idf(word, corpus):\n",
    "    return math.log10(len(corpus)/sum([1.0 for i in corpus if word in i]))"
   ]
  },
  {
   "cell_type": "code",
   "execution_count": 168,
   "metadata": {},
   "outputs": [],
   "source": [
    "def compute_tfidf(corpus):\n",
    "    documents_list = []\n",
    "    for text in tqdm(corpus):\n",
    "        tf_idf_dictionary = {}\n",
    "        computed_tf = compute_tf(text)\n",
    "        for word in computed_tf:\n",
    "            tf_idf_dictionary[word] = computed_tf[word] * compute_idf(word, corpus)\n",
    "        documents_list.append(tf_idf_dictionary)\n",
    "    return documents_list\n",
    "\n",
    "#corpus = [['pasta', 'la', 'vista', 'baby', 'la', 'vista'], \n",
    "#['hasta', 'siempre', 'comandante', 'baby', 'la', 'siempre'], \n",
    "#['siempre', 'comandante', 'baby', 'la', 'siempre']]\n",
    "#tfidf = compute_tfidf(corpus)"
   ]
  },
  {
   "cell_type": "code",
   "execution_count": 169,
   "metadata": {},
   "outputs": [],
   "source": [
    "data['MY_lemmatized_text'] = data['content'].apply(preprocessing)"
   ]
  },
  {
   "cell_type": "code",
   "execution_count": 171,
   "metadata": {},
   "outputs": [
    {
     "data": {
      "application/vnd.jupyter.widget-view+json": {
       "model_id": "d286b9726c294fd3918ad9e013709248",
       "version_major": 2,
       "version_minor": 0
      },
      "text/plain": [
       "A Jupyter Widget"
      ]
     },
     "metadata": {},
     "output_type": "display_data"
    },
    {
     "name": "stdout",
     "output_type": "stream",
     "text": [
      "\n"
     ]
    }
   ],
   "source": [
    "tfidf = compute_tfidf(data['MY_lemmatized_text'])"
   ]
  },
  {
   "cell_type": "code",
   "execution_count": 172,
   "metadata": {
    "collapsed": true
   },
   "outputs": [],
   "source": [
    "data['tfidf'] = tfidf"
   ]
  },
  {
   "cell_type": "code",
   "execution_count": 364,
   "metadata": {
    "collapsed": true
   },
   "outputs": [],
   "source": [
    "def order_by_tfidf(dict_lemma_tfidf):\n",
    "    sorted_by_value = sorted(dict_lemma_tfidf.items(), key=lambda kv: kv[1], reverse=True)\n",
    "    sorted_lemmas = [i[0] for i in sorted_by_value]\n",
    "    return sorted_lemmas"
   ]
  },
  {
   "cell_type": "code",
   "execution_count": 365,
   "metadata": {},
   "outputs": [],
   "source": [
    "data['order_by_tfidf'] = data['tfidf'].apply(order_by_tfidf)"
   ]
  },
  {
   "cell_type": "code",
   "execution_count": 424,
   "metadata": {},
   "outputs": [],
   "source": [
    "def get_nouns(words, title=False):\n",
    "    words = [morph.parse(word)[0] for word in words if word and word not in stops]\n",
    "    words = [word.normal_form for word in words if word.tag.POS == 'NOUN']\n",
    "    if title:\n",
    "        return words\n",
    "    else:\n",
    "        return words[0:5]"
   ]
  },
  {
   "cell_type": "code",
   "execution_count": 419,
   "metadata": {},
   "outputs": [],
   "source": [
    "data['MY_nouns_only'] = data['order_by_tfidf'].apply(get_nouns)"
   ]
  },
  {
   "cell_type": "code",
   "execution_count": 420,
   "metadata": {},
   "outputs": [
    {
     "name": "stdout",
     "output_type": "stream",
     "text": [
      "Precision -  0.19\n",
      "Recall -  0.18\n",
      "F1 -  0.18\n",
      "Jaccard -  0.11\n"
     ]
    }
   ],
   "source": [
    "evaluate(data['keywords'], data['MY_nouns_only'])"
   ]
  },
  {
   "cell_type": "markdown",
   "metadata": {},
   "source": [
    "##### Здесь я исправила только способ лемматизации и нахождение tfidf. Тут уже есть прирост, но поработаем ещё над title, так как часто слова из заголовка (или с начала текста, но это мы тут не учитываем) являются ключевыми."
   ]
  },
  {
   "cell_type": "markdown",
   "metadata": {},
   "source": [
    "# 2. Добавление слов из заголовка (доп. фичи)"
   ]
  },
  {
   "cell_type": "markdown",
   "metadata": {},
   "source": [
    "Мы уже к найденным ключевым словам из текста добавляем все существительные из заголовка."
   ]
  },
  {
   "cell_type": "code",
   "execution_count": 422,
   "metadata": {},
   "outputs": [],
   "source": [
    "data['MY_lemmatized_title'] = data['title'].apply(preprocessing)"
   ]
  },
  {
   "cell_type": "code",
   "execution_count": 427,
   "metadata": {},
   "outputs": [],
   "source": [
    "data['MY_lemmatized_title'] = data['MY_lemmatized_title'].apply(get_nouns, title=True)"
   ]
  },
  {
   "cell_type": "code",
   "execution_count": 428,
   "metadata": {},
   "outputs": [],
   "source": [
    "data['title+text'] = data['MY_lemmatized_title'] + data['MY_nouns_only']"
   ]
  },
  {
   "cell_type": "code",
   "execution_count": 429,
   "metadata": {
    "collapsed": true
   },
   "outputs": [],
   "source": [
    "def to_set(l):\n",
    "    l = list(set(l))\n",
    "    return l"
   ]
  },
  {
   "cell_type": "code",
   "execution_count": 430,
   "metadata": {
    "collapsed": true
   },
   "outputs": [],
   "source": [
    "data['title+text'] = data['title+text'].apply(to_set)"
   ]
  },
  {
   "cell_type": "code",
   "execution_count": 431,
   "metadata": {},
   "outputs": [
    {
     "name": "stdout",
     "output_type": "stream",
     "text": [
      "Precision -  0.17\n",
      "Recall -  0.24\n",
      "F1 -  0.19\n",
      "Jaccard -  0.12\n"
     ]
    }
   ],
   "source": [
    "evaluate(data['keywords'], data['title+text'])"
   ]
  },
  {
   "cell_type": "markdown",
   "metadata": {},
   "source": [
    "##### Так ещё прирост!"
   ]
  },
  {
   "cell_type": "markdown",
   "metadata": {},
   "source": [
    "# 3*. Важность имён"
   ]
  },
  {
   "cell_type": "markdown",
   "metadata": {},
   "source": [
    "Хочется решить проблему \"собянин vs дарья\". Видим, что фамилии нам важны, а вот просто какие-то имена - не очень => уберем."
   ]
  },
  {
   "cell_type": "code",
   "execution_count": 434,
   "metadata": {
    "collapsed": true
   },
   "outputs": [],
   "source": [
    "def get_nouns(words):\n",
    "    words = [morph.parse(word)[0] for word in words if word and word not in stops]\n",
    "    words = [word.normal_form for word in words if word.tag.POS == 'NOUN' and 'Name' not in word.tag]\n",
    "    return words"
   ]
  },
  {
   "cell_type": "code",
   "execution_count": 435,
   "metadata": {},
   "outputs": [
    {
     "data": {
      "text/plain": [
       "['собянин', 'касперский', 'путин']"
      ]
     },
     "execution_count": 435,
     "metadata": {},
     "output_type": "execute_result"
    }
   ],
   "source": [
    "get_nouns(['дарья', 'собянин', 'касперский', 'путин'])"
   ]
  },
  {
   "cell_type": "markdown",
   "metadata": {},
   "source": [
    "##### К сожалению, применив это для всех данных, мы не получили прирост (возможно, тут это не так важно)."
   ]
  },
  {
   "cell_type": "markdown",
   "metadata": {},
   "source": [
    "# 4. Точный pos-tagging (pos -> normalization)"
   ]
  },
  {
   "cell_type": "markdown",
   "metadata": {},
   "source": [
    "Я по-тупому определяла часть речи у леммы (не смотяр на контекст), но так не очень, так как, например \"печь\" = V или S). Нужно это исправить. Возьму текст и размечу его по частям речи и затем сделаю нормализацию."
   ]
  },
  {
   "cell_type": "code",
   "execution_count": 488,
   "metadata": {
    "collapsed": true
   },
   "outputs": [],
   "source": [
    "def norm(text):\n",
    "    info = mystem.analyze(text)\n",
    "    lemmas = []\n",
    "    russian_stopwords = set(stopwords.words('russian'))\n",
    "    for w in info:\n",
    "        try:\n",
    "            analysis = w['analysis'][0]\n",
    "            lex = analysis['lex']\n",
    "            pos = re.search('(.+?),', analysis['gr']).group(1)\n",
    "            if pos == 'S' and lex not in russian_stopwords:\n",
    "                lemmas.append(lex)\n",
    "        except:\n",
    "            continue\n",
    "    return lemmas"
   ]
  },
  {
   "cell_type": "code",
   "execution_count": 483,
   "metadata": {
    "collapsed": true
   },
   "outputs": [],
   "source": [
    "data['MY_lemmatized_text_2'] = data['content'].apply(norm)"
   ]
  },
  {
   "cell_type": "code",
   "execution_count": 491,
   "metadata": {},
   "outputs": [
    {
     "data": {
      "application/vnd.jupyter.widget-view+json": {
       "model_id": "ee15fd09079d46c7943b2b54f7ed4ac2",
       "version_major": 2,
       "version_minor": 0
      },
      "text/plain": [
       "A Jupyter Widget"
      ]
     },
     "metadata": {},
     "output_type": "display_data"
    }
   ],
   "source": [
    "tfidf2 = compute_tfidf(data['MY_lemmatized_text_2'])"
   ]
  },
  {
   "cell_type": "code",
   "execution_count": 492,
   "metadata": {
    "collapsed": true
   },
   "outputs": [],
   "source": [
    "data['tfidf2'] = tfidf2"
   ]
  },
  {
   "cell_type": "code",
   "execution_count": 493,
   "metadata": {
    "collapsed": true
   },
   "outputs": [],
   "source": [
    "data['order_by_tfidf_2'] = data['tfidf2'].apply(order_by_tfidf)"
   ]
  },
  {
   "cell_type": "code",
   "execution_count": 494,
   "metadata": {
    "collapsed": true
   },
   "outputs": [],
   "source": [
    "def get_first_5(words):\n",
    "    return words[0:5]"
   ]
  },
  {
   "cell_type": "code",
   "execution_count": 495,
   "metadata": {
    "collapsed": true
   },
   "outputs": [],
   "source": [
    "data['MY_nouns_only_2'] = data['order_by_tfidf_2'].apply(get_first_5)"
   ]
  },
  {
   "cell_type": "code",
   "execution_count": 496,
   "metadata": {},
   "outputs": [
    {
     "name": "stdout",
     "output_type": "stream",
     "text": [
      "Precision -  0.2\n",
      "Recall -  0.2\n",
      "F1 -  0.19\n",
      "Jaccard -  0.12\n"
     ]
    }
   ],
   "source": [
    "evaluate(data['keywords'], data['MY_nouns_only_2'])"
   ]
  },
  {
   "cell_type": "markdown",
   "metadata": {},
   "source": [
    "##### Получился результат F1, как в пункте 2, но мы ещё не добавляли здесь заголовок."
   ]
  },
  {
   "cell_type": "code",
   "execution_count": 497,
   "metadata": {
    "collapsed": true
   },
   "outputs": [],
   "source": [
    "data['MY_lemmatized_title_2'] = data['title'].apply(norm)"
   ]
  },
  {
   "cell_type": "code",
   "execution_count": 498,
   "metadata": {
    "collapsed": true
   },
   "outputs": [],
   "source": [
    "data['title+text_2'] = data['MY_lemmatized_title_2'] + data['MY_nouns_only_2']\n",
    "data['title+text_2'] = data['title+text_2'].apply(to_set)"
   ]
  },
  {
   "cell_type": "code",
   "execution_count": 499,
   "metadata": {},
   "outputs": [
    {
     "name": "stdout",
     "output_type": "stream",
     "text": [
      "Precision -  0.18\n",
      "Recall -  0.26\n",
      "F1 -  0.21\n",
      "Jaccard -  0.13\n"
     ]
    }
   ],
   "source": [
    "evaluate(data['keywords'], data['title+text_2'])"
   ]
  },
  {
   "cell_type": "markdown",
   "metadata": {},
   "source": [
    "##### Получилось ещё лучше! Тут попробуем из итогового списка удалить имена."
   ]
  },
  {
   "cell_type": "code",
   "execution_count": 540,
   "metadata": {
    "collapsed": true
   },
   "outputs": [],
   "source": [
    "def del_names(my_keys):\n",
    "    without_names = []\n",
    "    for every in my_keys:\n",
    "        info = mystem.analyze(every)[0]['analysis'][0]['gr']\n",
    "        #print(every, ':', info)\n",
    "        if ',имя,' not in info:\n",
    "            without_names.append(every)\n",
    "    return without_names"
   ]
  },
  {
   "cell_type": "code",
   "execution_count": 541,
   "metadata": {},
   "outputs": [
    {
     "data": {
      "text/plain": [
       "['путин', 'яблоко']"
      ]
     },
     "execution_count": 541,
     "metadata": {},
     "output_type": "execute_result"
    }
   ],
   "source": [
    "del_names(['путин', 'ира', 'яблоко'])"
   ]
  },
  {
   "cell_type": "code",
   "execution_count": 542,
   "metadata": {},
   "outputs": [],
   "source": [
    "data['title+text_2_without_names'] = data['title+text_2'].apply(del_names)"
   ]
  },
  {
   "cell_type": "code",
   "execution_count": 543,
   "metadata": {},
   "outputs": [
    {
     "name": "stdout",
     "output_type": "stream",
     "text": [
      "Precision -  0.19\n",
      "Recall -  0.26\n",
      "F1 -  0.21\n",
      "Jaccard -  0.13\n"
     ]
    }
   ],
   "source": [
    "evaluate(data['keywords'], data['title+text_2_without_names'])"
   ]
  },
  {
   "cell_type": "markdown",
   "metadata": {},
   "source": [
    "##### Тут только Precision немного поменялся"
   ]
  },
  {
   "cell_type": "markdown",
   "metadata": {},
   "source": [
    "# 5*. Убираем частотные слова"
   ]
  },
  {
   "cell_type": "markdown",
   "metadata": {},
   "source": [
    "Keywords не должны содержать самые частотные слова из корпуса - удалим их (то есть ключевые слова должны разделять тексты, а самые частотные не выделяют тексты)."
   ]
  },
  {
   "cell_type": "code",
   "execution_count": 596,
   "metadata": {
    "collapsed": true
   },
   "outputs": [],
   "source": [
    "def create_corpus(text, title, top=50):\n",
    "    corpus = []\n",
    "    for t in text:\n",
    "        for w in t:\n",
    "            if w not in stops:\n",
    "                corpus.append(w)\n",
    "    for t in title:\n",
    "        for w in t:\n",
    "            if w not in stops:\n",
    "                corpus.append(w)\n",
    "    counter_obj = Counter(corpus)\n",
    "    return [e[0] for e in counter_obj.most_common(n=top)]"
   ]
  },
  {
   "cell_type": "code",
   "execution_count": 597,
   "metadata": {
    "collapsed": true
   },
   "outputs": [],
   "source": [
    "common = create_corpus(data['MY_lemmatized_text_2'], data['MY_lemmatized_title_2'], top=20)"
   ]
  },
  {
   "cell_type": "code",
   "execution_count": 598,
   "metadata": {
    "collapsed": true
   },
   "outputs": [],
   "source": [
    "def del_common(my_keys):\n",
    "    without_common = []\n",
    "    for every in my_keys:\n",
    "        if every not in common:\n",
    "            without_common.append(every)\n",
    "    return without_common"
   ]
  },
  {
   "cell_type": "code",
   "execution_count": 599,
   "metadata": {
    "collapsed": true
   },
   "outputs": [],
   "source": [
    "data['title+text_2_without_common'] = data['title+text_2'].apply(del_common)"
   ]
  },
  {
   "cell_type": "code",
   "execution_count": 600,
   "metadata": {},
   "outputs": [
    {
     "name": "stdout",
     "output_type": "stream",
     "text": [
      "Precision -  0.18\n",
      "Recall -  0.25\n",
      "F1 -  0.2\n",
      "Jaccard -  0.12\n"
     ]
    }
   ],
   "source": [
    "evaluate(data['keywords'], data['title+text_2_without_common'])"
   ]
  },
  {
   "cell_type": "markdown",
   "metadata": {},
   "source": [
    "##### Уменьшило показатели - не сработало."
   ]
  },
  {
   "cell_type": "markdown",
   "metadata": {},
   "source": [
    "# 6. Графы: взвесим графы по tfidf"
   ]
  },
  {
   "cell_type": "code",
   "execution_count": 831,
   "metadata": {
    "collapsed": true
   },
   "outputs": [],
   "source": [
    "def build_matrix(text, window_size=5):\n",
    "    vocab = set(text)\n",
    "    word2id = {w:i for i, w in enumerate(vocab)}\n",
    "    id2word = {i:w for i, w in enumerate(vocab)}\n",
    "    # преобразуем слова в индексы для удобства\n",
    "    ids = [word2id[word] for word in text]\n",
    "\n",
    "    # создадим матрицу совстречаемости\n",
    "    m = np.zeros((len(vocab), len(vocab)))\n",
    "\n",
    "    # пройдемся окном по всему тексту\n",
    "    for i in range(0, len(ids), window_size):\n",
    "        window = ids[i:i+window_size]\n",
    "        # добавим единичку всем парам слов в этом окне\n",
    "        for j, k in combinations(window, 2):\n",
    "            # чтобы граф был ненаправленный \n",
    "            m[j][k] += 1\n",
    "            m[k][j] += 1\n",
    "    \n",
    "    return m, id2word\n",
    "\n",
    "def some_centrality_measure(text, i, window_size=5, topn=5):\n",
    "    \n",
    "    matrix, id2word = build_matrix(text, window_size)\n",
    "    #print(matrix, id2word)\n",
    "    G = nx.from_numpy_array(matrix)\n",
    "    #print(G)\n",
    "    # тут можно поставить любую метрику\n",
    "    node2measure = dict(nx.degree(G))\n",
    "    #print(node2measure)\n",
    "    for key in node2measure.keys():\n",
    "        try:\n",
    "            tf_idf = data['tfidf'][i][id2word[key]]\n",
    "        except:\n",
    "            tf_idf = 0\n",
    "        #print(id2word[key], str(tf_idf))\n",
    "        node2measure[key] = node2measure[key]/len(G)*tf_idf\n",
    "    #print(node2measure)\n",
    "    return [id2word[index] for index,measure in sorted(node2measure.items(), key=lambda x: -x[1])[:topn]]"
   ]
  },
  {
   "cell_type": "code",
   "execution_count": 832,
   "metadata": {},
   "outputs": [],
   "source": [
    "i = 0\n",
    "result = []\n",
    "for text in data['content_norm']:\n",
    "    keys = some_centrality_measure(text, i, window_size=5, topn=5)\n",
    "    result.append(keys)\n",
    "    i += 1"
   ]
  },
  {
   "cell_type": "code",
   "execution_count": 833,
   "metadata": {},
   "outputs": [
    {
     "name": "stdout",
     "output_type": "stream",
     "text": [
      "Precision -  0.21\n",
      "Recall -  0.2\n",
      "F1 -  0.19\n",
      "Jaccard -  0.12\n"
     ]
    }
   ],
   "source": [
    "evaluate(data['keywords'], result)"
   ]
  },
  {
   "cell_type": "markdown",
   "metadata": {},
   "source": [
    "##### Получился прирост!"
   ]
  },
  {
   "cell_type": "code",
   "execution_count": 834,
   "metadata": {},
   "outputs": [
    {
     "data": {
      "text/html": [
       "<div>\n",
       "<style scoped>\n",
       "    .dataframe tbody tr th:only-of-type {\n",
       "        vertical-align: middle;\n",
       "    }\n",
       "\n",
       "    .dataframe tbody tr th {\n",
       "        vertical-align: top;\n",
       "    }\n",
       "\n",
       "    .dataframe thead th {\n",
       "        text-align: right;\n",
       "    }\n",
       "</style>\n",
       "<table border=\"1\" class=\"dataframe\">\n",
       "  <thead>\n",
       "    <tr style=\"text-align: right;\">\n",
       "      <th></th>\n",
       "      <th>content</th>\n",
       "      <th>keywords</th>\n",
       "      <th>summary</th>\n",
       "      <th>title</th>\n",
       "      <th>url</th>\n",
       "      <th>content_norm</th>\n",
       "      <th>title_norm</th>\n",
       "      <th>content_norm_str</th>\n",
       "      <th>MY_lemmatized_text</th>\n",
       "      <th>tfidf</th>\n",
       "      <th>...</th>\n",
       "      <th>tfidf2</th>\n",
       "      <th>order_by_tfidf_2</th>\n",
       "      <th>MY_nouns_only_2</th>\n",
       "      <th>MY_lemmatized_title_2</th>\n",
       "      <th>title+text_2</th>\n",
       "      <th>title+text_2_without_names</th>\n",
       "      <th>title+text_2_without_common</th>\n",
       "      <th>MY_lemmatized_text_3</th>\n",
       "      <th>with_ngrams</th>\n",
       "      <th>for_graph</th>\n",
       "    </tr>\n",
       "  </thead>\n",
       "  <tbody>\n",
       "    <tr>\n",
       "      <th>0</th>\n",
       "      <td>Многие интересуются, зачем нужна «Яблоку» молодежная фракция? Основной задачей «Молодежного «Яблока» является привлечение молодых людей к участию в выборах и деятельности партии. «Молодежное «Яблоко» работает более чем в 10 регионах. Единого руководства у нас нет, но мы стараемся координировать свою деятельность и периодически проводим акции на федеральном уровне.\\nМы ведем борьбу с обязательным воинским призывом. Военный – это профессия, а не обязанность. Молодые люди вправе сами распоряжаться своей жизнью и не терять целый год, отдавая государству «долг», который они у него не занимали. По мнению одного из ведущих специалистов в области оборонной политики Алексея Арбатова, переход на контрактную армию будет стоить лишь 2% военного бюджета.\\nТакже на федеральном уровне «Молодежное «Яблоко» проводило акции за освобождение политзаключенных и против вмешательства России во внутреннюю политику Украины.\\nРасскажу о московских активистах. Виктору Петрунину – 19 лет, он пришел к нам боль...</td>\n",
       "      <td>[яблоко, молодежь, молодежное яблоко]</td>\n",
       "      <td></td>\n",
       "      <td>\"Молодежное \"Яблоко\": оппозиционная деятельность становится опасной</td>\n",
       "      <td>http://www.ng.ru/ng_politics/2017-04-18/11_6976_apple.html</td>\n",
       "      <td>[яблоко, фракция, задача, яблоко, привлечение, молодая, человек, участие, выборы, деятельность, партия, яблоко, регион, руководство, деятельность, акция, уровень, борьба, призыв, военный, профессия, обязанность, молодая, человек, жизнь, год, государство, долг, мнение, специалист, область, политика, алексей, арбатов, переход, армия, военный, бюджет, уровень, яблоко, акция, освобождение, политзаключённый, вмешательство, россия, политика, украина, активист, виктор, петрунин, год, год, москва, семья, взгляд, виктор, детство, политика, виктор, власть, крым, война, украина, убийство, борис, немцов, сторона, школа, сила, смена, власть, россия, дарья, новичкова, влияние, преподаватель, обществознание, ситуация, страна, искренность, заинтересованность, вопрос, дарья, материал, сми, время, наблюдение, позиция, образ, команда, единомышленник, пример, ровесник, дарья, яблоко, яблоко, клуб, рамка, лекция, кинопоказ, ...]</td>\n",
       "      <td>[молодёжный, яблоко, оппозиционный, деятельность, становиться, опасный]</td>\n",
       "      <td>яблоко фракция задача яблоко привлечение молодая человек участие выборы деятельность партия яблоко регион руководство деятельность акция уровень борьба призыв военный профессия обязанность молодая человек жизнь год государство долг мнение специалист область политика алексей арбатов переход армия военный бюджет уровень яблоко акция освобождение политзаключённый вмешательство россия политика украина активист виктор петрунин год год москва семья взгляд виктор детство политика виктор власть крым война украина убийство борис немцов сторона школа сила смена власть россия дарья новичкова влияние преподаватель обществознание ситуация страна искренность заинтересованность вопрос дарья материал сми время наблюдение позиция образ команда единомышленник пример ровесник дарья яблоко яблоко клуб рамка лекция кинопоказ тема наступление консерватизм обсуждение альтернатива ситуация экономика участник стол мероприятие место дискуссия участие люба гость яблоко повестка ноябрь прошлое год карелия акц...</td>\n",
       "      <td>[многие, интересоваться, нужный, яблоко, молодежный, фракция, основной, задача, молодежный, яблоко, являться, привлечение, молодой, человек, участие, выборы, деятельность, партия, молодежный, яблоко, работать, регион, единый, руководство, стараться, координировать, свой, деятельность, периодически, проводить, акция, федеральный, уровень, вести, борьба, обязательный, воинский, призыв, военный, это, профессия, обязанность, молодой, человек, вправе, распоряжаться, свой, жизнь, терять, целый, год, отдавать, государство, долг, который, занимать, мнение, ведущий, специалист, область, оборонный, политика, алексей, арбатова, переход, контрактный, армия, стоить, лишь, военный, бюджет, также, федеральный, уровень, молодежный, яблоко, проводить, акция, освобождение, политзаключенный, против, вмешательство, россия, внутренний, политика, украина, рассказывать, московский, активист, виктор, петрунин, год, приходить, полтора, год, назад, переезжать, москва, весь, семья, ...]</td>\n",
       "      <td>{'многие': 0.0020757190728092887, 'интересоваться': 0.005966067293416211, 'нужный': 0.0013869913530080162, 'яблоко': 0.038216853380747845, 'молодежный': 0.031129676907686626, 'фракция': 0.002729775241481989, 'основной': 0.0011518847734428236, 'задача': 0.0036003282060321643, 'являться': 0.0007571574545677665, 'привлечение': 0.0024409199552809582, 'молодой': 0.0055953415604529854, 'человек': 0.0013323345118175347, 'участие': 0.002063824811544627, 'выборы': 0.004469903543260737, 'деятельность': 0.00595473819600125, 'партия': 0.0025840571435144077, 'работать': 0.0018255760812160317, 'регион': 0.0023928631651098046, 'единый': 0.0015173252832647742, 'руководство': 0.00125948772112931, 'стараться': 0.002190265534081776, 'координировать': 0.0038659371943415544, 'свой': 0.0009869380496466372, 'периодически': 0.002911478501476941, 'проводить': 0.004121141189412202, 'акция': 0.014665441095637317, 'федеральный': 0.0030235506944840313, 'уровень': 0.0027806065560067195, 'вести': 0.0013615595873...</td>\n",
       "      <td>...</td>\n",
       "      <td>{'яблоко': 0.07739255254524206, 'фракция': 0.00552803946751729, 'задача': 0.007290987227269437, 'привлечение': 0.004943081629870041, 'человек': 0.0026939104570780133, 'участие': 0.004173437444265348, 'выборы': 0.008285677056327705, 'деятельность': 0.012058878425593928, 'партия': 0.005232947261955701, 'регион': 0.004845762323609461, 'руководство': 0.0025505754926095346, 'акция': 0.029698832326290624, 'уровень': 0.00562313556311375, 'борьба': 0.004898212552521008, 'призыв': 0.004330798407420851, 'военный': 0.004924439358594743, 'профессия': 0.0054224660648711405, 'обязанность': 0.005121742463723437, 'жизнь': 0.004786111153311286, 'год': 0.0023521710343748256, 'государство': 0.001932924640544235, 'долг': 0.004961949873570245, 'мнение': 0.0018665628843028807, 'специалист': 0.00289188592571879, 'область': 0.002430329075756479, 'политика': 0.008407034237542998, 'алексей': 0.0031360286493656176, 'арбатов': 0.009663576615705565, 'переход': 0.003931185458026393, 'армия': 0.00368704273437956...</td>\n",
       "      <td>[яблоко, активист, акция, дарья, тимур, репрессия, виктор, деятельность, петрунин, новичков, обществознание, дадина, ставрополец, электроцинк, черносотенец, куашев, мартов, силовик, насилие, марта, кинопоказ, ильдар, декриминализация, освобождение, убийство, паблик, отделение, арбатов, молодежь, керенский, политзаключенный, немцов, политика, правонарушение, застой, выборы, искренность, честность, пародия, неготовность, сизо, яблочник, карелия, консерватизм, апатия, задача, колония, кандидат, ровесник, кампания, последовательность, ельцин, женщина, украшение, мероприятие, единомышленник, убийца, свобода, украина, всплеск, открытость, власть, заинтересованность, наркотик, явлинский, лишение, лекция, солидарность, кирилл, заведение, уровень, фракция, уважение, подросток, профессия, преподаватель, ребята, вступление, партия, альтернатива, фотография, обязанность, основатель, лозунг, заявка, вмешательство, наступление, григорий, долг, привлечение, военный, борьба, пропаганда, детство, п...</td>\n",
       "      <td>[яблоко, активист, акция, дарья, тимур]</td>\n",
       "      <td>[яблоко, деятельность]</td>\n",
       "      <td>[тимур, акция, яблоко, активист, дарья, деятельность]</td>\n",
       "      <td>[акция, яблоко, активист, деятельность, лидер яблоко]</td>\n",
       "      <td>[тимур, акция, яблоко, активист, дарья, деятельность]</td>\n",
       "      <td>яблоко фракция задача яблоко привлечение человек участие выборы деятельность партия яблоко регион руководство деятельность акция уровень борьба призыв военный профессия обязанность человек жизнь год государство долг мнение специалист область политика алексей арбатов переход армия бюджет уровень яблоко акция освобождение политзаключенный вмешательство россия политика украина активист виктор петрунин год год москва семья взгляд виктор детство политика виктор власть крым война украина убийство борис немцов сторона школа сила смена власть россия дарья новичков влияние преподаватель обществознание ситуация страна искренность заинтересованность вопрос дарья материал сми время наблюдение позиция образ команда единомышленник пример ровесник дарья яблоко яблоко клуб рамка лекция кинопоказ тема наступление консерватизм обсуждение альтернатива ситуация экономика участник стол мероприятие место дискуссия участие гость яблоко повестка ноябрь год карелия акция свобода ильдар дадина колония проце...</td>\n",
       "      <td>[яблоко, фракция, задача, яблоко, привлечение, человек, участие, выборы, деятельность, партия, яблоко, регион, руководство, деятельность, акция, уровень, борьба, призыв, военный, профессия, обязанность, человек, жизнь, год, государство, долг, мнение, специалист, область, политика, алексей, арбатов, переход, армия, бюджет, уровень, яблоко, акция, освобождение, политзаключенный, вмешательство, россия, политика, украина, активист, виктор, петрунин, год, год, москва, семья, взгляд, виктор, детство, политика, виктор, власть, крым, война, украина, убийство, борис, немцов, сторона, школа, сила, смена, власть, россия, дарья, новичков, влияние, преподаватель, обществознание, ситуация, страна, искренность, заинтересованность, вопрос, дарья, материал, сми, время, наблюдение, позиция, образ, команда, единомышленник, пример, ровесник, дарья, яблоко, яблоко, клуб, рамка, лекция, кинопоказ, тема, наступление, консерватизм, ...]</td>\n",
       "      <td>[многие, интересоваться, нужный, яблоко, молодежный, фракция, основной, задача, молодежный, яблоко, являться, привлечение, молодой, человек, участие, выборы, деятельность, партия, молодежный, яблоко, работать, регион, единый, руководство, стараться, координировать, свой, деятельность, периодически, проводить, акция, федеральный, уровень, вести, борьба, обязательный, воинский, призыв, военный, это, профессия, обязанность, молодой, человек, вправе, распоряжаться, свой, жизнь, терять, целый, год, отдавать, государство, долг, который, занимать, мнение, ведущий, специалист, область, оборонный, политика, алексей, арбатова, переход, контрактный, армия, стоить, лишь, военный, бюджет, также, федеральный, уровень, молодежный, яблоко, проводить, акция, освобождение, политзаключенный, против, вмешательство, россия, внутренний, политика, украина, рассказывать, московский, активист, виктор, петрунин, год, приходить, полтора, год, назад, переезжать, москва, весь, семья, ...]</td>\n",
       "    </tr>\n",
       "    <tr>\n",
       "      <th>1</th>\n",
       "      <td>Вчера «Газпром» снизил верхнюю планку прогноза собственной добычи газа в 2020 году. Через 12 лет концерн собирается добывать около 620–640 млрд. куб. м в год. При этом общее производство газа в стране, по расчетам холдинга, должно достичь 940 млрд. куб. м. Иными словами, треть добываемого объема, по мнению холдинга, должны будут обеспечить независимые производители. Эксперты не верят, что независимые компании смогут выйти на такие объемы добычи. Если расчеты «Газпрома» не оправдаются, то под ударом окажутся отечественные предприятия и население, которым придется сокращать потребление и смириться с новым витком цен. Иных путей покрытия возможного дефицита газа нет, так как вряд ли холдинг разорвет уже заключенные контракты на экспорт газа в другие страны. \\n«Газпром» к 2020 году планирует добывать 620–640 млрд. куб. м газа, сообщил вчера на форуме «ТЭК России в ХХI веке» глава управления по добыче газа, газового конденсата и нефти холдинга Валерий Минликаев. Тем самым он уточнил пре...</td>\n",
       "      <td>[газпром, газ]</td>\n",
       "      <td></td>\n",
       "      <td>\"Газпрома\" на всех не хватит</td>\n",
       "      <td>http://www.ng.ru/economics/2008-04-03/1_gazprom.html</td>\n",
       "      <td>[газпром, планка, прогноз, добыча, газа, год, год, концерн, миллиард, куб, метр, год, производство, газа, страна, расчёт, холдинг, миллиард, куб, метр, слово, треть, объём, мнение, холдинг, производитель, эксперт, компания, объём, добыча, расчёт, газпром, удар, предприятие, население, потребление, виток, цена, путь, покрытие, дефицит, газа, холдинг, заключённый, контракт, экспорт, газа, страна, газпром, год, миллиард, куб, метр, газа, форум, тэк, россия, век, глава, управление, добыча, газа, конденсат, нефть, холдинг, валерий, минликай, прогноз, добыча, газа, прошлое, год, зампред, правление, концерн, александр, ананенков, слово, ананенков, газпром, год, миллиард, куб, метр, год, прогноз, газпром, стратегия, правительство, добыча, газа, холдинг, представление, минпромэнерго, минэкономразвития, добыча, газа, россия, год, уровень, ...]</td>\n",
       "      <td>[газпром, хватить]</td>\n",
       "      <td>газпром планка прогноз добыча газа год год концерн миллиард куб метр год производство газа страна расчёт холдинг миллиард куб метр слово треть объём мнение холдинг производитель эксперт компания объём добыча расчёт газпром удар предприятие население потребление виток цена путь покрытие дефицит газа холдинг заключённый контракт экспорт газа страна газпром год миллиард куб метр газа форум тэк россия век глава управление добыча газа конденсат нефть холдинг валерий минликай прогноз добыча газа прошлое год зампред правление концерн александр ананенков слово ананенков газпром год миллиард куб метр год прогноз газпром стратегия правительство добыча газа холдинг представление минпромэнерго минэкономразвития добыча газа россия год уровень миллиард куб метр слово минликаев год добыча газа россия миллиард куб метр расчёт газпром миллиард куб метр половина треть год добыча производитель счёт газпром рука месторождение страна мнение эксперт заявление представитель газпром сторона отход прогноз ...</td>\n",
       "      <td>[вчера, газпром, снижать, верхний, планка, прогноз, собственный, добыча, газ, год, год, концерн, собираться, добывать, около, млрд, куб, м, год, это, общий, производство, газ, страна, расчет, холдинг, должно, достигать, млрд, куб, м, иной, слово, треть, добывать, объем, мнение, холдинг, должный, обеспечивать, независимый, производитель, эксперт, верить, независимый, компания, смочь, выходить, объем, добыча, расчет, газпром, оправдываться, удар, оказываться, отечественный, предприятие, население, который, приходиться, сокращать, потребление, смиряться, новый, виток, цена, иной, путь, покрытие, возможный, дефицит, газ, вряд, холдинг, разрывать, заключенная, контракт, экспорт, газ, страна, газпром, год, планировать, добывать, млрд, куб, м, газ, сообщать, вчера, форум, тэк, россия, ххi, век, глава, управление, добыча, газ, газовый, ...]</td>\n",
       "      <td>{'вчера': 0.003162778653140416, 'газпром': 0.0417510265357607, 'снижать': 0.001978101459722028, 'верхний': 0.002723785610006864, 'планка': 0.0036587177802394947, 'прогноз': 0.011835416441245883, 'собственный': 0.0012014621297055206, 'добыча': 0.023840270396313066, 'газ': 0.03526583582230035, 'год': 0.0024574151137706766, 'концерн': 0.008693447954989046, 'собираться': 0.001399999780922712, 'добывать': 0.012854019041431138, 'около': 0.004009113174154569, 'млрд': 0.024775665397617167, 'куб': 0.04848246594214979, 'м': 0.01948752557617032, 'это': 0.000508973631471082, 'общий': 0.0008602689689730986, 'производство': 0.003045332605511835, 'страна': 0.003104554072629913, 'расчет': 0.010270652092158206, 'холдинг': 0.020781396439512975, 'должно': 0.0015686265177424158, 'достигать': 0.0013633132793350576, 'иной': 0.0024693349529673675, 'слово': 0.0016127218828267463, 'треть': 0.003798475749833762, 'объем': 0.0059065819750186545, 'мнение': 0.0017446266154790746, 'должный': 0.004396443784517204...</td>\n",
       "      <td>...</td>\n",
       "      <td>{'газпром': 0.07288117790014367, 'планка': 0.0064883526931643, 'прогноз': 0.020660069050946757, 'добыча': 0.041615910604090346, 'газ': 0.06185079642264417, 'год': 0.004317471832832738, 'концерн': 0.014974853158625578, 'млрд': 0.043248749246717684, 'куб': 0.08199132513766164, 'м': 0.0331427475662074, 'производство': 0.005315975337691712, 'страна': 0.005419353161871515, 'расчет': 0.01792859444157441, 'холдинг': 0.036276297293535806, 'слово': 0.002759399824432286, 'треть': 0.006630672580850163, 'объем': 0.010310612394988703, 'мнение': 0.003045444705967858, 'производитель': 0.03132529765587652, 'эксперт': 0.005027222333581983, 'компания': 0.003905087673010475, 'удар': 0.0063509372088061825, 'предприятие': 0.009003125092748386, 'население': 0.009103741208585923, 'потребление': 0.01930517926638841, 'виток': 0.00620499008202963, 'цена': 0.010952865860727745, 'путь': 0.0019058308213062735, 'покрытие': 0.005662193073369071, 'дефицит': 0.008497659807576365, 'контракт': 0.007669158671599826, ...</td>\n",
       "      <td>[куб, газпром, газ, млрд, добыча, холдинг, м, производитель, прогноз, кубометр, потребление, минликаев, ананенков, расчет, концерн, аналитик, месторождение, монополист, миллиард, экспорт, цена, поставка, объем, снг, надым, ямбург, раскладка, население, предприятие, конденсат, собинбанк, занозин, расценка, дефицит, уренгой, потребитель, минпромэнерго, контракт, новатэк, разведка, запас, лукойл, вр, аппетит, балтия, рукав, треть, ямал, отдача, прибалтика, планка, аудит, тэк, козырь, удар, роснефть, виток, триллион, банкротство, ценообразование, скачок, покрытие, показатель, страна, минэкономразвития, производство, план, отход, тепло, шельф, рынок, эксперт, зампред, тариф, управляющий, декларация, экономия, европа, трлн, год, правление, консультация, счет, стадия, валерий, стремление, конкурент, компания, внедрение, топливо, иван, потребность, форум, нефть, представление, промышленность, лето, сокращение, море, уровень, ...]</td>\n",
       "      <td>[куб, газпром, газ, млрд, добыча]</td>\n",
       "      <td>[газпром]</td>\n",
       "      <td>[газпром, млрд, добыча, газ, куб]</td>\n",
       "      <td>[газпром, млрд, добыча, газ, куб, млрд куб]</td>\n",
       "      <td>[газпром, млрд, добыча, газ, куб]</td>\n",
       "      <td>газпром планка прогноз добыча газ год год концерн млрд куб м год производство газ страна расчет холдинг млрд куб м слово треть объем мнение холдинг производитель эксперт компания объем добыча расчет газпром удар предприятие население потребление виток цена путь покрытие дефицит газ холдинг контракт экспорт газ страна газпром год млрд куб м газ форум тэк россия век глава управление добыча газ конденсат нефть холдинг валерий минликаев прогноз добыча газ лето год зампред правление концерн александр ананенков слово ананенков газпром год млрд куб м год прогноз газпром стратегия правительство добыча газ холдинг представление минпромэнерго минэкономразвития добыча газ россия год уровень млрд куб м слово минликаев год добыча газ россия млрд куб м расчет газпром млрд куб м половина треть год добыча производитель счет газпром рука месторождение страна мнение нга эксперт заявление представитель газпром сторона отход прогноз план итог год концерн млрд куб м газ год год показатель газпром добыч...</td>\n",
       "      <td>[газпром, планка, прогноз, добыча, газ, год, год, концерн, млрд, куб, м, год, производство, газ, страна, расчет, холдинг, млрд, куб, м, слово, треть, объем, мнение, холдинг, производитель, эксперт, компания, объем, добыча, расчет, газпром, удар, предприятие, население, потребление, виток, цена, путь, покрытие, дефицит, газ, холдинг, контракт, экспорт, газ, страна, газпром, год, млрд, куб, м, газ, форум, тэк, россия, век, глава, управление, добыча, газ, конденсат, нефть, холдинг, валерий, минликаев, прогноз, добыча, газ, лето, год, зампред, правление, концерн, александр, ананенков, слово, ананенков, газпром, год, млрд, куб, м, год, прогноз, газпром, стратегия, правительство, добыча, газ, холдинг, представление, минпромэнерго, минэкономразвития, добыча, газ, россия, год, уровень, млрд, ...]</td>\n",
       "      <td>[вчера, газпром, снижать, верхний, планка, прогноз, собственный, добыча, газ, год, год, концерн, собираться, добывать, около, млрд, куб, м, год, это, общий, производство, газ, страна, расчет, холдинг, должно, достигать, млрд, куб, м, иной, слово, треть, добывать, объем, мнение, холдинг, должный, обеспечивать, независимый, производитель, эксперт, верить, независимый, компания, смочь, выходить, объем, добыча, расчет, газпром, оправдываться, удар, оказываться, отечественный, предприятие, население, который, приходиться, сокращать, потребление, смиряться, новый, виток, цена, иной, путь, покрытие, возможный, дефицит, газ, вряд, холдинг, разрывать, заключенная, контракт, экспорт, газ, страна, газпром, год, планировать, добывать, млрд, куб, м, газ, сообщать, вчера, форум, тэк, россия, ххi, век, глава, управление, добыча, газ, газовый, ...]</td>\n",
       "    </tr>\n",
       "    <tr>\n",
       "      <th>2</th>\n",
       "      <td>Долголетний труд Евгения Витковского на ниве перевода, а также в качестве редактора и антологиста известен многим. Но не все знают его как поэта и прозаика. В этом году уже вышла составленная им и Еленой Кистеровой антология  «Раздол туманов: Страницы шотландской гэльской поэзии XVII–XX вв.», а в апреле запланирован выход его романа «Протей, или Византийский кризис» (отрывок из романа читайте на с. 12). С \\n побеседовал \\n– Одна из таких книг только что вышла – «Раздол туманов. Страницы шотландской гэльской поэзии XVII–XX веков». Это стихи 29 поэтов, все в переводе с оригинала – моем и Елены Кистеровой. Работа заняла 10 лет, включая изучение языка. Она была упоительно интересной: до нас переводов из этой поэзии на русский не было вовсе. Сейчас должен выйти том стихотворений канадского классика Роберта Уильяма Сервиса, «канадского Киплинга», около 300 стихотворений. Кроме того, в Петербурге в производстве наш огромный трехтомный плод совместной работы – антология «Франция в сердце»....</td>\n",
       "      <td>[франсуа рабле, сервантес, шекспир, конан дойл, михаил булгаков, александр грин, борхес, босх, маркес, герман гессе, голландская живопись, гаргантюа и пантагрюэль, дон кихот, мастер и маргарита, москва, россия, история, поэзия, шотландия, баллада, пере]</td>\n",
       "      <td>Евгений Витковский о том, как Босх протягивает руку Шекспиру, \\r\\nи оба танцуют в пламени пожара в охваченном чумой средневековом городе</td>\n",
       "      <td>Бесконечная партия в четырехмерные  шахматы</td>\n",
       "      <td>http://www.ng.ru/person/2018-03-22/10_927_vitkovsky.html</td>\n",
       "      <td>[труд, евгений, витковский, нива, перевод, качество, редактор, антологист, поэт, прозаик, год, елена, кистеров, антология, раздол, туманов, страница, поэзия, век, апрель, выход, роман, протей, кризис, отрывок, роман, книга, раздол, туманов, страница, поэзия, век, стих, поэт, перевод, оригинал, елена, кистеров, работа, год, изучение, язык, перевод, поэзия, стихотворение, классика, роберт, уильям, сервис, киплинга, стихотворение, петербург, производство, плод, работа, антология, франция, сердце, стихотворение, век, участник, семинар, перевод, работа, год, деньга, культура, борьба, коррупция, план, перевод, велик, комплекс, книга, сборник, классика, дидерик, йоханнес, оппермана, редактор, год, 1990-е, возможность, читатель, год, главное, редактор, издательство, год, престиж, бук, читатель, серия, рамка, книга, приключение, фантастика, детгиз, книга, серия, ...]</td>\n",
       "      <td>[бесконечный, партия, четырехмерный, шахматы]</td>\n",
       "      <td>труд евгений витковский нива перевод качество редактор антологист поэт прозаик год елена кистеров антология раздол туманов страница поэзия век апрель выход роман протей кризис отрывок роман книга раздол туманов страница поэзия век стих поэт перевод оригинал елена кистеров работа год изучение язык перевод поэзия стихотворение классика роберт уильям сервис киплинга стихотворение петербург производство плод работа антология франция сердце стихотворение век участник семинар перевод работа год деньга культура борьба коррупция план перевод велик комплекс книга сборник классика дидерик йоханнес оппермана редактор год 1990-е возможность читатель год главное редактор издательство год престиж бук читатель серия рамка книга приключение фантастика детгиз книга серия дорога тираж качество десятка сотня иллюстрация офсет переплёт книга ассортимент трёхтомник новелла александр грин произведение трилогия мариэтта шагинян месса-мёнда вид текст год роман текст газета серия собрание произведение кона...</td>\n",
       "      <td>[долголетний, труд, евгения, витковский, нива, перевод, также, качество, редактор, антологист, известный, многие, знать, поэт, прозаик, это, год, выходить, составлять, елена, кистеровой, антология, раздол, туманов, страница, шотландский, гэльский, поэзия, xvii, вв, апрель, запланировать, выход, роман, протей, византийский, кризис, отрывок, роман, читать, побеседовать, книга, выходить, раздол, туманов, страница, шотландский, гэльский, поэзия, xvii, век, это, стих, поэт, перевод, оригинал, елена, кистеровой, работа, занимать, год, включая, изучение, язык, упоительный, интересный, перевод, поэзия, русский, вовсе, должный, выходить, стихотворение, канадский, классика, роберта, уильям, сервис, канадский, киплинг, около, стихотворение, кроме, петербург, производство, наш, огромный, трехтомный, плод, совместный, работа, антология, франция, сердце, это, примерно, стихотворение, xii, век, который, ...]</td>\n",
       "      <td>{'долголетний': 0.0032250453059591536, 'труд': 0.0011504044656235474, 'евгения': 0.0019026647021673192, 'витковский': 0.0032250453059591536, 'нива': 0.0026543261017490313, 'перевод': 0.007143505658814942, 'также': 0.0006324693137715426, 'качество': 0.001480310934205015, 'редактор': 0.004805585435844695, 'антологист': 0.0032250453059591536, 'известный': 0.0016346905528150254, 'многие': 0.002104272624648173, 'знать': 0.002178647278660933, 'поэт': 0.004058183728570476, 'прозаик': 0.0021288085253970425, 'это': 0.0010384731988661519, 'год': 0.001462397152034583, 'выходить': 0.005160631336955422, 'составлять': 0.0006505377169842061, 'елена': 0.0032037236238964626, 'кистеровой': 0.006450090611918307, 'антология': 0.004678888005472748, 'раздол': 0.006450090611918307, 'туманов': 0.0062182484755353975, 'страница': 0.004225923214966383, 'шотландский': 0.005607548702560981, 'гэльский': 0.006450090611918307, 'поэзия': 0.006453626126626326, 'xvii': 0.004632703423665604, 'вв': 0.00310912423776769...</td>\n",
       "      <td>...</td>\n",
       "      <td>{'труд': 0.002478706529023932, 'евгений': 0.002993498195756207, 'витковский': 0.006948808958200651, 'нива': 0.005719115002737604, 'перевод': 0.015391677141157967, 'качество': 0.0031895359304004965, 'редактор': 0.010317603400239125, 'антологист': 0.006948808958200651, 'поэт': 0.008743921641971436, 'прозаик': 0.009173628490886224, 'год': 0.00317133884628178, 'елена': 0.006902868426745987, 'кистеровой': 0.013897617916401301, 'антология': 0.010081315393235098, 'раздол': 0.013897617916401301, 'туманов': 0.01339808176687524, 'страница': 0.009079996593887084, 'поэзия': 0.0139052356748959, 'апрель': 0.002615712985583159, 'выход': 0.002311333315279049, 'роман': 0.028772017504253677, 'протей': 0.013897617916401301, 'кризис': 0.0026512498012677805, 'отрывок': 0.005265271551563168, 'книга': 0.02415470007710848, 'век': 0.007382829940186664, 'стих': 0.009079996593887084, 'оригинал': 0.004811428100388732, 'работа': 0.003833561035919176, 'изучение': 0.0034392011334130413, 'язык': 0.004386803277152...</td>\n",
       "      <td>[роман, мениппея, книга, жанр, стихотворение, читатель, перевод, поэзия, кистеровой, раздол, протей, туманов, реквием, произведение, редактор, престол, антология, наследник, рецензия, герой, классик, прозаик, страница, стих, павел, серия, поэт, текст, век, сюжет, петербург, дата, витковский, антологист, киплинг, дидерика, опперман, офсет, мариэтта, шагинян, менд, дойла, щепетнев, чертовар, пенталогия, назойливость, рабле, маркес, прапрадед, колер, локаль, елена, йоханнес, бук, детгиз, грин, конан, кузьмич, босх, печатание, гнет, бисер, борхеса, этикетка, переплет, ассортимент, архетип, мифология, гессе, насмешка, рассудок, трехтомник, месса, фантаст, кристалл, кржижановский, перекресток, горечь, кихот, рига, александр, донос, фанат, фонтанка, мир, нива, новелла, чума, рука, витта, маргарита, конфета, купец, событие, искусствовед, эпопея, ракурс, лабиринт, собрание, писатель, ...]</td>\n",
       "      <td>[роман, мениппея, книга, жанр, стихотворение]</td>\n",
       "      <td>[партия, шахматы]</td>\n",
       "      <td>[жанр, роман, партия, стихотворение, книга, мениппея, шахматы]</td>\n",
       "      <td>[жанр, роман, партия, стихотворение, книга, мениппея, шахматы, москва россия]</td>\n",
       "      <td>[жанр, роман, партия, стихотворение, книга, мениппея, шахматы]</td>\n",
       "      <td>труд евгений витковский нива перевод качество редактор антологист поэт прозаик год елена кистеровой антология раздол туманов страница поэзия апрель выход роман протей кризис отрывок роман книга раздол туманов страница поэзия век стих поэт перевод оригинал елена кистеровой работа год изучение язык перевод поэзия стихотворение классик роберт уильям сервис киплинг стихотворение петербург производство плод работа антология франция сердце стихотворение век участник семинар век перевод работа год деньги культура борьба коррупция план перевод комплекс книга сборник классик дидерика йоханнес опперман редактор год е возможность читатель год редактор издательство год престиж бук читатель серия рамка книга приключение фантастика детгиз книга серия тираж качество десяток сотня иллюстрация офсет переплет т д книга ассортимент трехтомник новелла александр грин произведение трилогия мариэтта шагинян месса менд вид текст год роман текст газета серия собрание произведение конан дойла рассказ стих с...</td>\n",
       "      <td>[труд, евгений, витковский, нива, перевод, качество, редактор, антологист, поэт, прозаик, год, елена, кистеровой, антология, раздол, туманов, страница, поэзия, апрель, выход, роман, протей, кризис, отрывок, роман, книга, раздол, туманов, страница, поэзия, век, стих, поэт, перевод, оригинал, елена, кистеровой, работа, год, изучение, язык, перевод, поэзия, стихотворение, классик, роберт, уильям, сервис, киплинг, стихотворение, петербург, производство, плод, работа, антология, франция, сердце, стихотворение, век, участник, семинар, век, перевод, работа, год, деньги, культура, борьба, коррупция, план, перевод, комплекс, книга, сборник, классик, дидерика, йоханнес, опперман, редактор, год, е, возможность, читатель, год, редактор, издательство, год, престиж, бук, читатель, серия, рамка, книга, приключение, фантастика, детгиз, книга, серия, тираж, качество, ...]</td>\n",
       "      <td>[долголетний, труд, евгения, витковский, нива, перевод, также, качество, редактор, антологист, известный, многие, знать, поэт, прозаик, это, год, выходить, составлять, елена, кистеровой, антология, раздол, туманов, страница, шотландский, гэльский, поэзия, xvii, вв, апрель, запланировать, выход, роман, протей, византийский, кризис, отрывок, роман, читать, побеседовать, книга, выходить, раздол, туманов, страница, шотландский, гэльский, поэзия, xvii, век, это, стих, поэт, перевод, оригинал, елена, кистеровой, работа, занимать, год, включая, изучение, язык, упоительный, интересный, перевод, поэзия, русский, вовсе, должный, выходить, стихотворение, канадский, классика, роберта, уильям, сервис, канадский, киплинг, около, стихотворение, кроме, петербург, производство, наш, огромный, трехтомный, плод, совместный, работа, антология, франция, сердце, это, примерно, стихотворение, xii, век, который, ...]</td>\n",
       "    </tr>\n",
       "    <tr>\n",
       "      <th>3</th>\n",
       "      <td>В Ленинском районном суде продолжаются слушания по делу экс-депутата Думы Владивостока Зинаиды Ким и бывшего председателя избирательного участка № 522 Елены Футиной, которых обвиняют в сговоре и фальсификациях результатов на выборах на сентябрьских выборах 2016 года. Напомним, 18 сентября 2017 года местные журналисты сняли на видео, как Ким, будучи кандидатом по спискам в Законодательное Собрание Приморского края, выдавала молодым людям открепительные, возила их голосовать на участок, где уже знали о предстоящем визите. В качестве вознаграждения избирателям предлагалось по 500 рублей.\\nПеред началом судебного процесса Зинаида Ким разговаривала с журналистами на повышенных тонах и обзывая, доказывала, что видео – монтаж. Адвокаты представили вниманию участников процесса характеристику подсудимой, составленную руководителями Всероссийской общественной организации «Боевое братство (Приморье)», членом которого является подсудимая. Выяснилось, что у Зинаиды Ким – богатый наградной списо...</td>\n",
       "      <td>[владивосток, суд, ким, футина, выборы, боевое братство]</td>\n",
       "      <td>Фигурантке уголовного дела о фальсификации выборов в Приморье грозит до четырех лет заключения</td>\n",
       "      <td>Экс-депутат, осужденная за фальсификацию выборов, оказалась членом \"Боевого братства\"</td>\n",
       "      <td>http://www.ng.ru/regions/2018-01-10/100_vladivostok100118.html</td>\n",
       "      <td>[суд, слушание, дело, экс-депутат, дума, владивосток, зинаида, ким, председатель, участок, елена, сговор, фальсификация, результат, выборы, выборы, год, сентябрь, год, журналист, видео, ким, кандидат, список, собрание, край, молодая, человек, участок, визит, качество, вознаграждение, избиратель, рубль, начало, процесс, зинаида, ким, журналист, тон, видео, монтаж, адвокат, внимание, участник, процесс, характеристика, подсудимая, руководитель, организация, братство, приморье, член, подсудимая, зинаида, ким, список, знак, 70-летие, победа, война, 25-летие, вывод, войско, афганистан, 20-летие, мчс, ход, заседание, адвокат, алексей, клецкина, судья, экспертиза, видео, аудиозапись, процесс, качество, доказательство, вина, ким, защитник, сомнение, подлинность, экспертиза, обвинитель, прошение, защитник, судья, позиция, представитель, прокуратура, заседание, дело, зинаида, ким, елена, свидетель, редактор, издание, ...]</td>\n",
       "      <td>[экс-депутат, осудить, фальсификация, выбор, оказаться, член, боевой, братство]</td>\n",
       "      <td>суд слушание дело экс-депутат дума владивосток зинаида ким председатель участок елена сговор фальсификация результат выборы выборы год сентябрь год журналист видео ким кандидат список собрание край молодая человек участок визит качество вознаграждение избиратель рубль начало процесс зинаида ким журналист тон видео монтаж адвокат внимание участник процесс характеристика подсудимая руководитель организация братство приморье член подсудимая зинаида ким список знак 70-летие победа война 25-летие вывод войско афганистан 20-летие мчс ход заседание адвокат алексей клецкина судья экспертиза видео аудиозапись процесс качество доказательство вина ким защитник сомнение подлинность экспертиза обвинитель прошение защитник судья позиция представитель прокуратура заседание дело зинаида ким елена свидетель редактор издание иван федот журналист маргарита бабченко зинаида ким суд журналист действие дело вознаграждение рубль иван федот ситуация разговор коллега сотрудник редакция зинаида ким заседани...</td>\n",
       "      <td>[ленинский, районный, суд, продолжаться, слушание, дело, экс, дума, владивосток, зинаида, ким, бывший, председатель, избирательный, участок, №\\n, елена, футина, который, обвинять, сговор, фальсификация, результат, выборы, сентябрьский, выборы, год, напоминать, сентябрь, год, местный, журналист, снимать, видео, ким, кандидат, список, законодательный, собрание, приморский, край, выдавать, молодой, человек, открепительный, возить, голосовать, участок, знать, предстоящий, визит, качество, вознаграждение, избиратель, предлагаться, рубль, начало, судебный, процесс, зинаида, ким, разговаривать, журналист, повышенный, тон, обзывать, доказывать, видео, монтаж, адвокат, представлять, внимание, участник, процесс, характеристика, подсудимая, составлять, руководитель, всероссийский, общественный, организация, боевой, братство, приморье, член, который, являться, подсудимая, выясняться, зинаида, ким, богатый, наградной, список, например, памятный, знак, летие, победа, великий, ...]</td>\n",
       "      <td>{'ленинский': 0.0071430956713514305, 'районный': 0.006644258246285935, 'суд': 0.010215895928099187, 'продолжаться': 0.003412512490824811, 'слушание': 0.006367400742622912, 'дело': 0.003542591848694226, 'экс': 0.004617042873499885, 'дума': 0.004665769369805105, 'владивосток': 0.011786111960769789, 'зинаида': 0.0451483181419212, 'ким': 0.06154537299506462, 'бывший': 0.008069382868868815, 'председатель': 0.00300855700800499, 'избирательный': 0.008844574207152905, 'участок': 0.006958054613212072, '№\n",
       "': 0.004367062393145572, 'елена': 0.009364730592928121, 'футина': 0.03459648112352953, 'который': 0.000542300206091058, 'обвинять': 0.0037068243495839855, 'сговор': 0.007229891418641752, 'фальсификация': 0.01354174846917638, 'результат': 0.001610522478581482, 'выборы': 0.005886935901963442, 'сентябрьский': 0.008374503077335215, 'год': 0.0011399198313295214, 'напоминать': 0.0021730918093879324, 'сентябрь': 0.003398118902730992, 'местный': 0.0027307761159434995, 'журналист': 0.012168714308825...</td>\n",
       "      <td>...</td>\n",
       "      <td>{'суд': 0.01512582751676524, 'слушание': 0.010061196753536755, 'дело': 0.0055976865675499915, 'экс': 0.007295437910613079, 'депутат': 0.005173867575095151, 'дума': 0.007372431158918563, 'владивосток': 0.018623359230829608, 'зинаида': 0.07133933142867105, 'ким': 0.09724848992590321, 'председатель': 0.004736402127318218, 'участок': 0.010994495134688687, 'елена': 0.01479730911368753, 'футина': 0.05466626299077042, 'сговор': 0.011424027324483652, 'фальсификация': 0.02139745890709638, 'результат': 0.0025448034744436675, 'выборы': 0.008514563162856092, 'год': 0.00181286110107894, 'сентябрь': 0.005335687332564695, 'журналист': 0.01922791321726025, 'видео': 0.045987000318514604, 'кандидат': 0.0055212419375696604, 'список': 0.01106665941268822, 'собрание': 0.0058433625349569905, 'край': 0.006506209590629642, 'человек': 0.0013841639365096972, 'визит': 0.006506209590629642, 'качество': 0.006837237243068468, 'вознаграждение': 0.024135409003347826, 'избиратель': 0.006816242419242523, 'рубль': 0...</td>\n",
       "      <td>[ким, зинаида, футина, видео, подсудимая, федотов, экспертиза, свидетель, монтаж, вознаграждение, приморье, летие, фальсификация, рубль, журналист, владивосток, клецкин, бабченко, видеограф, губарев, адвокат, защитник, заседание, судья, обвинитель, склейка, субтитр, видеодоказательство, аудиозапись, суд, елена, иван, прошение, подлинность, наложение, ск, размер, маргарита, сговор, братство, манипуляция, список, ролик, участок, процесс, мчс, су, слушание, фрагмент, даниил, лишение, плата, тон, срок, прокуратура, штраф, документ, референдум, выборы, корреспондент, афганистан, редакция, компьютер, характеристика, вина, обязанность, кадр, телефон, дума, редактор, тыс, экс, запрос, знак, доказательство, качество, избиратель, процедура, доход, край, визит, сомнение, сайт, собрание, войско, агентство, издание, дело, кандидат, разговор, сентябрь, материал, депутат, коллега, вывод, свобода, победа, алексей, председатель, сотрудник, ...]</td>\n",
       "      <td>[ким, зинаида, футина, видео, подсудимая]</td>\n",
       "      <td>[экс, депутат, фальсификация, выборы, член, братство]</td>\n",
       "      <td>[депутат, ким, член, зинаида, выборы, футина, видео, подсудимая, экс, братство, фальсификация]</td>\n",
       "      <td>[депутат, ким, член, выборы, футина, видео, подсудимая, экс, братство, фальсификация, год сентябрь год]</td>\n",
       "      <td>[депутат, ким, член, зинаида, выборы, футина, видео, подсудимая, экс, братство, фальсификация]</td>\n",
       "      <td>суд слушание дело экс депутат дума владивосток зинаида ким председатель участок елена футина сговор фальсификация результат выборы выборы год сентябрь год журналист видео ким кандидат список собрание край человек участок визит качество вознаграждение избиратель рубль начало процесс зинаида ким журналист тон видео монтаж адвокат внимание участник процесс характеристика подсудимая руководитель организация братство приморье член подсудимая зинаида ким список знак летие победа война летие вывод войско афганистан летие мчс ход заседание адвокат алексей клецкин судья экспертиза видео аудиозапись процесс качество доказательство вина ким футина защитник сомнение подлинность экспертиза обвинитель прошение защитник судья позиция представитель прокуратура заседание дело зинаида ким елена футина свидетель редактор издание иван федотов журналист маргарита бабченко зинаида ким суд журналист действие дело вознаграждение рубль иван федотов ситуация разговор коллега сотрудник редакция зинаида ким з...</td>\n",
       "      <td>[суд, слушание, дело, экс, депутат, дума, владивосток, зинаида, ким, председатель, участок, елена, футина, сговор, фальсификация, результат, выборы, выборы, год, сентябрь, год, журналист, видео, ким, кандидат, список, собрание, край, человек, участок, визит, качество, вознаграждение, избиратель, рубль, начало, процесс, зинаида, ким, журналист, тон, видео, монтаж, адвокат, внимание, участник, процесс, характеристика, подсудимая, руководитель, организация, братство, приморье, член, подсудимая, зинаида, ким, список, знак, летие, победа, война, летие, вывод, войско, афганистан, летие, мчс, ход, заседание, адвокат, алексей, клецкин, судья, экспертиза, видео, аудиозапись, процесс, качество, доказательство, вина, ким, футина, защитник, сомнение, подлинность, экспертиза, обвинитель, прошение, защитник, судья, позиция, представитель, прокуратура, заседание, дело, зинаида, ким, елена, футина, ...]</td>\n",
       "      <td>[ленинский, районный, суд, продолжаться, слушание, дело, экс, дума, владивосток, зинаида, ким, бывший, председатель, избирательный, участок, №\\n, елена, футина, который, обвинять, сговор, фальсификация, результат, выборы, сентябрьский, выборы, год, напоминать, сентябрь, год, местный, журналист, снимать, видео, ким, кандидат, список, законодательный, собрание, приморский, край, выдавать, молодой, человек, открепительный, возить, голосовать, участок, знать, предстоящий, визит, качество, вознаграждение, избиратель, предлагаться, рубль, начало, судебный, процесс, зинаида, ким, разговаривать, журналист, повышенный, тон, обзывать, доказывать, видео, монтаж, адвокат, представлять, внимание, участник, процесс, характеристика, подсудимая, составлять, руководитель, всероссийский, общественный, организация, боевой, братство, приморье, член, который, являться, подсудимая, выясняться, зинаида, ким, богатый, наградной, список, например, памятный, знак, летие, победа, великий, ...]</td>\n",
       "    </tr>\n",
       "    <tr>\n",
       "      <th>4</th>\n",
       "      <td>В 2012 году российская столица резко увеличилась в размерах в результате присоединения части территории Московской области. Появление Новой Москвы предоставило мегаполису потенциал для роста, однако накладывало на власти новые обязательства, поскольку появившиеся в распоряжении земли были инфраструктурно менее развиты, чем площади, заключенные внутри МКАДа. Однако образовавшиеся в составе Москвы Троицкий и Новомосковский административные округа (ТиНАО) – одни из самых зеленых в регионе, и эту особенность планируется сохранить в процессе их освоения. Власти столицы планируют до 2035 года открыть в ТиНАО 90 парков.\\nОдин из главных принципов развития ТиНАО – формирование комфортной современной городской среды с жильем, рабочими местами, социальной и транспортной инфраструктурой, которые бы гармонично соседствовали с многочисленными парками. Им, как показали обследования экспертов, нужна забота, и весь лесной массив Новой Москвы площадью 75 тыс. га решено привеcти в порядок и сохранит...</td>\n",
       "      <td>[новая москва, подмосковье, благоустройство, тинао, городская среда, парки]</td>\n",
       "      <td>Лучшие проекты благоустройства общественных пространств ТиНАО выберут на конкурсе</td>\n",
       "      <td>Новая Москва останется территорией экологической безопасности</td>\n",
       "      <td>http://www.ng.ru/ng_stolitsa/2017-11-10/10_7112_newmoscow.html</td>\n",
       "      <td>[год, столица, размер, результат, присоединение, часть, территория, область, появление, москва, мегаполис, потенциал, рост, власть, новое, обязательство, распоряжение, земля, площадь, заключённый, мкада, состав, москва, троицкий, округа, тинао, регион, особенность, процесс, освоение, власть, столица, год, тинао, принцип, развитие, тинао, формирование, среда, жильё, инфраструктура, парка, обследование, эксперт, забота, лесна, массив, москва, площадь, тысяча, га, привеcть, порядок, разнообразие, москва, план, столица, граница, территория, территория, зона, полоса, леса, мусор, борьба, жук-короед, леса, регион, строительство, подъезд, расчистка, пруд, водоём, территория, экология, регион, схема, площадь, десяток, направленность, власть, москва, год, округа, портал, комплекс, политика, строительство, столица, ссылка, глава, департамент, развитие, территория, столица, владимир, жидкина, слово, территория, га, ...]</td>\n",
       "      <td>[новый, москва, остаться, территория, экологический, безопасность]</td>\n",
       "      <td>год столица размер результат присоединение часть территория область появление москва мегаполис потенциал рост власть новое обязательство распоряжение земля площадь заключённый мкада состав москва троицкий округа тинао регион особенность процесс освоение власть столица год тинао принцип развитие тинао формирование среда жильё инфраструктура парка обследование эксперт забота лесна массив москва площадь тысяча га привеcть порядок разнообразие москва план столица граница территория территория зона полоса леса мусор борьба жук-короед леса регион строительство подъезд расчистка пруд водоём территория экология регион схема площадь десяток направленность власть москва год округа портал комплекс политика строительство столица ссылка глава департамент развитие территория столица владимир жидкина слово территория га земля активность проект инвестор муниципалитет цифра город ресурс территория жидкина данные портал стройкомплекс мегаполис группа вопрос развитие тинао состав специалист департаме...</td>\n",
       "      <td>[год, российский, столица, резко, увеличиваться, размер, результат, присоединение, часть, территория, московский, область, появление, новый, москва, предоставлять, мегаполис, потенциал, рост, однако, накладывать, власть, новый, обязательство, поскольку, появляться, распоряжение, земля, инфраструктурно, менее, развитый, площадь, заключенная, внутри, мкад, однако, образовываться, состав, москва, троицкий, новомосковский, административный, округ, тинао, самый, зеленый, регион, особенность, планироваться, сохранять, процесс, освоение, власть, столица, планировать, год, открывать, тинао, парк, главный, принцип, развитие, тинао, формирование, комфортный, современный, городской, среда, жилье, рабочий, место, социальный, транспортный, инфраструктура, который, гармонично, соседствовать, многочисленный, парка, показывать, обследование, эксперт, нужный, забота, весь, лесна, массив, новый, москва, площадь, тыс, га, решать, приводить, порядок, сохранять, ландшафтный, биологический, разнообразие...</td>\n",
       "      <td>{'год': 0.0009282946234631067, 'российский': 0.0013784176424248983, 'столица': 0.012140292625674542, 'резко': 0.002776803237043713, 'увеличиваться': 0.0026385393638008623, 'размер': 0.0025364611305061873, 'результат': 0.002098448423117557, 'присоединение': 0.003353355499792685, 'часть': 0.0009455683565697613, 'территория': 0.012231592114999978, 'московский': 0.0035762198954071805, 'область': 0.0015445599365286051, 'появление': 0.002375684195914599, 'новый': 0.006786630643930854, 'москва': 0.010485234634802472, 'предоставлять': 0.002291439170280955, 'мегаполис': 0.007538702462977802, 'потенциал': 0.0025429482441117145, 'рост': 0.0016628613736738502, 'однако': 0.001782798780809771, 'накладывать': 0.005054707565061937, 'власть': 0.003117629128836227, 'обязательство': 0.002785081789788803, 'поскольку': 0.0015493161056895726, 'появляться': 0.0026869110112760926, 'распоряжение': 0.0031534943387838232, 'земля': 0.00382831877164384, 'инфраструктурно': 0.006827261666163631, 'менее': 0.00279...</td>\n",
       "      <td>...</td>\n",
       "      <td>{'год': 0.0017528197611927786, 'столица': 0.02268969494945034, 'размер': 0.004758574514069301, 'результат': 0.0039368327254214, 'присоединение': 0.00629112420687602, 'часть': 0.0017739508911714754, 'территория': 0.022947303155918763, 'область': 0.0028977000518634944, 'появление': 0.004456945991480808, 'москва': 0.01937345463271714, 'мегаполис': 0.014143121287381434, 'потенциал': 0.004770744782756593, 'рост': 0.0031146322969861943, 'власть': 0.005848885416919246, 'обязательство': 0.005225003870586687, 'распоряжение': 0.005916171003102985, 'земля': 0.007169276746586191, 'площадь': 0.04573979326906588, 'мкад': 0.011521956734110482, 'состав': 0.006686530114513984, 'троицкий': 0.02411176591786456, 'округ': 0.01098598839662088, 'тинао': 0.06913174040466288, 'регион': 0.011555279387068717, 'особенность': 0.004795327384846727, 'процесс': 0.0027195947930451028, 'освоение': 0.0064053731523770665, 'парк': 0.086206589344902, 'принцип': 0.0034721215411463047, 'развитие': 0.013847262695959619, '...</td>\n",
       "      <td>[парк, га, тинао, площадь, жидкин, троицкий, территория, столица, москва, поселение, департамент, благоустройство, мегаполис, коммунарка, остафьево, товарищево, развитие, портал, москомархитектура, велодорожка, поселок, лес, стройкомплекс, пахра, бутово, спорт, регион, мкад, короед, сосна, спортплощадка, округ, зона, парка, расчистка, конкурс, ручеек, жук, общественник, обследование, ирландия, пожарный, соискатель, пруд, сквер, водоем, застройка, комплекс, направленность, нидерланды, подъезд, муниципалитет, кафе, победа, гигант, массив, пространство, мусор, бюро, швейцария, жилье, земля, строительство, забота, разнообразие, испания, деревня, состав, полоса, любитель, освоение, присоединение, экология, инвестор, москвич, распоряжение, летие, власть, италия, ссылка, тыс, схема, хозяйство, обязательство, концепция, цифра, готовность, проект, вид, особенность, множество, потенциал, размер, инфраструктура, активность, октябрь, появление, великобритания, выбор, сентябрь, ...]</td>\n",
       "      <td>[парк, га, тинао, площадь, жидкин]</td>\n",
       "      <td>[москва, территория, безопасность]</td>\n",
       "      <td>[жидкин, тинао, га, москва, территория, безопасность, парк, площадь]</td>\n",
       "      <td>[жидкин, тинао, га, москва, территория, безопасность, парк, площадь, площадь га]</td>\n",
       "      <td>[жидкин, тинао, га, территория, безопасность, парк, площадь]</td>\n",
       "      <td>год столица размер результат присоединение часть территория область появление москва мегаполис потенциал рост власть обязательство распоряжение земля площадь мкад состав москва троицкий округ тинао регион особенность процесс освоение власть столица год тинао парк принцип развитие тинао формирование среда жилье место инфраструктура парка обследование эксперт забота массив москва площадь тыс га порядок разнообразие москва план столица граница территория территория зона полоса лес мусор борьба жук короед лес регион строительство пожарный подъезд расчистка пруд водоем территория экология регион схема площадь десяток парк направленность власть москва год парк троицкий округ портал комплекс политика строительство столица ссылка глава департамент развитие территория столица владимир жидкин слово территория га земля активность проект инвестор муниципалитет цифра город ресурс территория жидкин данные портал стройкомплекс мегаполис группа вопрос развитие парк тинао состав специалист департам...</td>\n",
       "      <td>[год, столица, размер, результат, присоединение, часть, территория, область, появление, москва, мегаполис, потенциал, рост, власть, обязательство, распоряжение, земля, площадь, мкад, состав, москва, троицкий, округ, тинао, регион, особенность, процесс, освоение, власть, столица, год, тинао, парк, принцип, развитие, тинао, формирование, среда, жилье, место, инфраструктура, парка, обследование, эксперт, забота, массив, москва, площадь, тыс, га, порядок, разнообразие, москва, план, столица, граница, территория, территория, зона, полоса, лес, мусор, борьба, жук, короед, лес, регион, строительство, пожарный, подъезд, расчистка, пруд, водоем, территория, экология, регион, схема, площадь, десяток, парк, направленность, власть, москва, год, парк, троицкий, округ, портал, комплекс, политика, строительство, столица, ссылка, глава, департамент, развитие, территория, столица, владимир, жидкин, ...]</td>\n",
       "      <td>[год, российский, столица, резко, увеличиваться, размер, результат, присоединение, часть, территория, московский, область, появление, новый, москва, предоставлять, мегаполис, потенциал, рост, однако, накладывать, власть, новый, обязательство, поскольку, появляться, распоряжение, земля, инфраструктурно, менее, развитый, площадь, заключенная, внутри, мкад, однако, образовываться, состав, москва, троицкий, новомосковский, административный, округ, тинао, самый, зеленый, регион, особенность, планироваться, сохранять, процесс, освоение, власть, столица, планировать, год, открывать, тинао, парк, главный, принцип, развитие, тинао, формирование, комфортный, современный, городской, среда, жилье, рабочий, место, социальный, транспортный, инфраструктура, который, гармонично, соседствовать, многочисленный, парка, показывать, обследование, эксперт, нужный, забота, весь, лесна, массив, новый, москва, площадь, тыс, га, решать, приводить, порядок, сохранять, ландшафтный, биологический, разнообразие...</td>\n",
       "    </tr>\n",
       "  </tbody>\n",
       "</table>\n",
       "<p>5 rows × 25 columns</p>\n",
       "</div>"
      ],
      "text/plain": [
       "                                                                                                                                                                                                                                                                                                                                                                                                                                                                                                                                                                                                                                                                                                                                                                                                                                                                                                                                                                                                                                   content  \\\n",
       "0  Многие интересуются, зачем нужна «Яблоку» молодежная фракция? Основной задачей «Молодежного «Яблока» является привлечение молодых людей к участию в выборах и деятельности партии. «Молодежное «Яблоко» работает более чем в 10 регионах. Единого руководства у нас нет, но мы стараемся координировать свою деятельность и периодически проводим акции на федеральном уровне.\\nМы ведем борьбу с обязательным воинским призывом. Военный – это профессия, а не обязанность. Молодые люди вправе сами распоряжаться своей жизнью и не терять целый год, отдавая государству «долг», который они у него не занимали. По мнению одного из ведущих специалистов в области оборонной политики Алексея Арбатова, переход на контрактную армию будет стоить лишь 2% военного бюджета.\\nТакже на федеральном уровне «Молодежное «Яблоко» проводило акции за освобождение политзаключенных и против вмешательства России во внутреннюю политику Украины.\\nРасскажу о московских активистах. Виктору Петрунину – 19 лет, он пришел к нам боль...   \n",
       "1  Вчера «Газпром» снизил верхнюю планку прогноза собственной добычи газа в 2020 году. Через 12 лет концерн собирается добывать около 620–640 млрд. куб. м в год. При этом общее производство газа в стране, по расчетам холдинга, должно достичь 940 млрд. куб. м. Иными словами, треть добываемого объема, по мнению холдинга, должны будут обеспечить независимые производители. Эксперты не верят, что независимые компании смогут выйти на такие объемы добычи. Если расчеты «Газпрома» не оправдаются, то под ударом окажутся отечественные предприятия и население, которым придется сокращать потребление и смириться с новым витком цен. Иных путей покрытия возможного дефицита газа нет, так как вряд ли холдинг разорвет уже заключенные контракты на экспорт газа в другие страны. \\n«Газпром» к 2020 году планирует добывать 620–640 млрд. куб. м газа, сообщил вчера на форуме «ТЭК России в ХХI веке» глава управления по добыче газа, газового конденсата и нефти холдинга Валерий Минликаев. Тем самым он уточнил пре...   \n",
       "2  Долголетний труд Евгения Витковского на ниве перевода, а также в качестве редактора и антологиста известен многим. Но не все знают его как поэта и прозаика. В этом году уже вышла составленная им и Еленой Кистеровой антология  «Раздол туманов: Страницы шотландской гэльской поэзии XVII–XX вв.», а в апреле запланирован выход его романа «Протей, или Византийский кризис» (отрывок из романа читайте на с. 12). С \\n побеседовал \\n– Одна из таких книг только что вышла – «Раздол туманов. Страницы шотландской гэльской поэзии XVII–XX веков». Это стихи 29 поэтов, все в переводе с оригинала – моем и Елены Кистеровой. Работа заняла 10 лет, включая изучение языка. Она была упоительно интересной: до нас переводов из этой поэзии на русский не было вовсе. Сейчас должен выйти том стихотворений канадского классика Роберта Уильяма Сервиса, «канадского Киплинга», около 300 стихотворений. Кроме того, в Петербурге в производстве наш огромный трехтомный плод совместной работы – антология «Франция в сердце»....   \n",
       "3  В Ленинском районном суде продолжаются слушания по делу экс-депутата Думы Владивостока Зинаиды Ким и бывшего председателя избирательного участка № 522 Елены Футиной, которых обвиняют в сговоре и фальсификациях результатов на выборах на сентябрьских выборах 2016 года. Напомним, 18 сентября 2017 года местные журналисты сняли на видео, как Ким, будучи кандидатом по спискам в Законодательное Собрание Приморского края, выдавала молодым людям открепительные, возила их голосовать на участок, где уже знали о предстоящем визите. В качестве вознаграждения избирателям предлагалось по 500 рублей.\\nПеред началом судебного процесса Зинаида Ким разговаривала с журналистами на повышенных тонах и обзывая, доказывала, что видео – монтаж. Адвокаты представили вниманию участников процесса характеристику подсудимой, составленную руководителями Всероссийской общественной организации «Боевое братство (Приморье)», членом которого является подсудимая. Выяснилось, что у Зинаиды Ким – богатый наградной списо...   \n",
       "4  В 2012 году российская столица резко увеличилась в размерах в результате присоединения части территории Московской области. Появление Новой Москвы предоставило мегаполису потенциал для роста, однако накладывало на власти новые обязательства, поскольку появившиеся в распоряжении земли были инфраструктурно менее развиты, чем площади, заключенные внутри МКАДа. Однако образовавшиеся в составе Москвы Троицкий и Новомосковский административные округа (ТиНАО) – одни из самых зеленых в регионе, и эту особенность планируется сохранить в процессе их освоения. Власти столицы планируют до 2035 года открыть в ТиНАО 90 парков.\\nОдин из главных принципов развития ТиНАО – формирование комфортной современной городской среды с жильем, рабочими местами, социальной и транспортной инфраструктурой, которые бы гармонично соседствовали с многочисленными парками. Им, как показали обследования экспертов, нужна забота, и весь лесной массив Новой Москвы площадью 75 тыс. га решено привеcти в порядок и сохранит...   \n",
       "\n",
       "                                                                                                                                                                                                                                                        keywords  \\\n",
       "0                                                                                                                                                                                                                          [яблоко, молодежь, молодежное яблоко]   \n",
       "1                                                                                                                                                                                                                                                 [газпром, газ]   \n",
       "2  [франсуа рабле, сервантес, шекспир, конан дойл, михаил булгаков, александр грин, борхес, босх, маркес, герман гессе, голландская живопись, гаргантюа и пантагрюэль, дон кихот, мастер и маргарита, москва, россия, история, поэзия, шотландия, баллада, пере]   \n",
       "3                                                                                                                                                                                                       [владивосток, суд, ким, футина, выборы, боевое братство]   \n",
       "4                                                                                                                                                                                    [новая москва, подмосковье, благоустройство, тинао, городская среда, парки]   \n",
       "\n",
       "                                                                                                                                    summary  \\\n",
       "0                                                                                                                                             \n",
       "1                                                                                                                                             \n",
       "2  Евгений Витковский о том, как Босх протягивает руку Шекспиру, \\r\\nи оба танцуют в пламени пожара в охваченном чумой средневековом городе   \n",
       "3                                            Фигурантке уголовного дела о фальсификации выборов в Приморье грозит до четырех лет заключения   \n",
       "4                                                         Лучшие проекты благоустройства общественных пространств ТиНАО выберут на конкурсе   \n",
       "\n",
       "                                                                                   title  \\\n",
       "0                    \"Молодежное \"Яблоко\": оппозиционная деятельность становится опасной   \n",
       "1                                                           \"Газпрома\" на всех не хватит   \n",
       "2                                            Бесконечная партия в четырехмерные  шахматы   \n",
       "3  Экс-депутат, осужденная за фальсификацию выборов, оказалась членом \"Боевого братства\"   \n",
       "4                          Новая Москва останется территорией экологической безопасности   \n",
       "\n",
       "                                                              url  \\\n",
       "0      http://www.ng.ru/ng_politics/2017-04-18/11_6976_apple.html   \n",
       "1            http://www.ng.ru/economics/2008-04-03/1_gazprom.html   \n",
       "2        http://www.ng.ru/person/2018-03-22/10_927_vitkovsky.html   \n",
       "3  http://www.ng.ru/regions/2018-01-10/100_vladivostok100118.html   \n",
       "4  http://www.ng.ru/ng_stolitsa/2017-11-10/10_7112_newmoscow.html   \n",
       "\n",
       "                                                                                                                                                                                                                                                                                                                                                                                                                                                                                                                                                                                                                                                                                                                                                                                                                                                                                                                                                   content_norm  \\\n",
       "0     [яблоко, фракция, задача, яблоко, привлечение, молодая, человек, участие, выборы, деятельность, партия, яблоко, регион, руководство, деятельность, акция, уровень, борьба, призыв, военный, профессия, обязанность, молодая, человек, жизнь, год, государство, долг, мнение, специалист, область, политика, алексей, арбатов, переход, армия, военный, бюджет, уровень, яблоко, акция, освобождение, политзаключённый, вмешательство, россия, политика, украина, активист, виктор, петрунин, год, год, москва, семья, взгляд, виктор, детство, политика, виктор, власть, крым, война, украина, убийство, борис, немцов, сторона, школа, сила, смена, власть, россия, дарья, новичкова, влияние, преподаватель, обществознание, ситуация, страна, искренность, заинтересованность, вопрос, дарья, материал, сми, время, наблюдение, позиция, образ, команда, единомышленник, пример, ровесник, дарья, яблоко, яблоко, клуб, рамка, лекция, кинопоказ, ...]   \n",
       "1                                                                                 [газпром, планка, прогноз, добыча, газа, год, год, концерн, миллиард, куб, метр, год, производство, газа, страна, расчёт, холдинг, миллиард, куб, метр, слово, треть, объём, мнение, холдинг, производитель, эксперт, компания, объём, добыча, расчёт, газпром, удар, предприятие, население, потребление, виток, цена, путь, покрытие, дефицит, газа, холдинг, заключённый, контракт, экспорт, газа, страна, газпром, год, миллиард, куб, метр, газа, форум, тэк, россия, век, глава, управление, добыча, газа, конденсат, нефть, холдинг, валерий, минликай, прогноз, добыча, газа, прошлое, год, зампред, правление, концерн, александр, ананенков, слово, ананенков, газпром, год, миллиард, куб, метр, год, прогноз, газпром, стратегия, правительство, добыча, газа, холдинг, представление, минпромэнерго, минэкономразвития, добыча, газа, россия, год, уровень, ...]   \n",
       "2                                                        [труд, евгений, витковский, нива, перевод, качество, редактор, антологист, поэт, прозаик, год, елена, кистеров, антология, раздол, туманов, страница, поэзия, век, апрель, выход, роман, протей, кризис, отрывок, роман, книга, раздол, туманов, страница, поэзия, век, стих, поэт, перевод, оригинал, елена, кистеров, работа, год, изучение, язык, перевод, поэзия, стихотворение, классика, роберт, уильям, сервис, киплинга, стихотворение, петербург, производство, плод, работа, антология, франция, сердце, стихотворение, век, участник, семинар, перевод, работа, год, деньга, культура, борьба, коррупция, план, перевод, велик, комплекс, книга, сборник, классика, дидерик, йоханнес, оппермана, редактор, год, 1990-е, возможность, читатель, год, главное, редактор, издательство, год, престиж, бук, читатель, серия, рамка, книга, приключение, фантастика, детгиз, книга, серия, ...]   \n",
       "3  [суд, слушание, дело, экс-депутат, дума, владивосток, зинаида, ким, председатель, участок, елена, сговор, фальсификация, результат, выборы, выборы, год, сентябрь, год, журналист, видео, ким, кандидат, список, собрание, край, молодая, человек, участок, визит, качество, вознаграждение, избиратель, рубль, начало, процесс, зинаида, ким, журналист, тон, видео, монтаж, адвокат, внимание, участник, процесс, характеристика, подсудимая, руководитель, организация, братство, приморье, член, подсудимая, зинаида, ким, список, знак, 70-летие, победа, война, 25-летие, вывод, войско, афганистан, 20-летие, мчс, ход, заседание, адвокат, алексей, клецкина, судья, экспертиза, видео, аудиозапись, процесс, качество, доказательство, вина, ким, защитник, сомнение, подлинность, экспертиза, обвинитель, прошение, защитник, судья, позиция, представитель, прокуратура, заседание, дело, зинаида, ким, елена, свидетель, редактор, издание, ...]   \n",
       "4    [год, столица, размер, результат, присоединение, часть, территория, область, появление, москва, мегаполис, потенциал, рост, власть, новое, обязательство, распоряжение, земля, площадь, заключённый, мкада, состав, москва, троицкий, округа, тинао, регион, особенность, процесс, освоение, власть, столица, год, тинао, принцип, развитие, тинао, формирование, среда, жильё, инфраструктура, парка, обследование, эксперт, забота, лесна, массив, москва, площадь, тысяча, га, привеcть, порядок, разнообразие, москва, план, столица, граница, территория, территория, зона, полоса, леса, мусор, борьба, жук-короед, леса, регион, строительство, подъезд, расчистка, пруд, водоём, территория, экология, регион, схема, площадь, десяток, направленность, власть, москва, год, округа, портал, комплекс, политика, строительство, столица, ссылка, глава, департамент, развитие, территория, столица, владимир, жидкина, слово, территория, га, ...]   \n",
       "\n",
       "                                                                        title_norm  \\\n",
       "0          [молодёжный, яблоко, оппозиционный, деятельность, становиться, опасный]   \n",
       "1                                                               [газпром, хватить]   \n",
       "2                                    [бесконечный, партия, четырехмерный, шахматы]   \n",
       "3  [экс-депутат, осудить, фальсификация, выбор, оказаться, член, боевой, братство]   \n",
       "4               [новый, москва, остаться, территория, экологический, безопасность]   \n",
       "\n",
       "                                                                                                                                                                                                                                                                                                                                                                                                                                                                                                                                                                                                                                                                                                                                                                                                                                                                                                                                                                                                                          content_norm_str  \\\n",
       "0  яблоко фракция задача яблоко привлечение молодая человек участие выборы деятельность партия яблоко регион руководство деятельность акция уровень борьба призыв военный профессия обязанность молодая человек жизнь год государство долг мнение специалист область политика алексей арбатов переход армия военный бюджет уровень яблоко акция освобождение политзаключённый вмешательство россия политика украина активист виктор петрунин год год москва семья взгляд виктор детство политика виктор власть крым война украина убийство борис немцов сторона школа сила смена власть россия дарья новичкова влияние преподаватель обществознание ситуация страна искренность заинтересованность вопрос дарья материал сми время наблюдение позиция образ команда единомышленник пример ровесник дарья яблоко яблоко клуб рамка лекция кинопоказ тема наступление консерватизм обсуждение альтернатива ситуация экономика участник стол мероприятие место дискуссия участие люба гость яблоко повестка ноябрь прошлое год карелия акц...   \n",
       "1  газпром планка прогноз добыча газа год год концерн миллиард куб метр год производство газа страна расчёт холдинг миллиард куб метр слово треть объём мнение холдинг производитель эксперт компания объём добыча расчёт газпром удар предприятие население потребление виток цена путь покрытие дефицит газа холдинг заключённый контракт экспорт газа страна газпром год миллиард куб метр газа форум тэк россия век глава управление добыча газа конденсат нефть холдинг валерий минликай прогноз добыча газа прошлое год зампред правление концерн александр ананенков слово ананенков газпром год миллиард куб метр год прогноз газпром стратегия правительство добыча газа холдинг представление минпромэнерго минэкономразвития добыча газа россия год уровень миллиард куб метр слово минликаев год добыча газа россия миллиард куб метр расчёт газпром миллиард куб метр половина треть год добыча производитель счёт газпром рука месторождение страна мнение эксперт заявление представитель газпром сторона отход прогноз ...   \n",
       "2  труд евгений витковский нива перевод качество редактор антологист поэт прозаик год елена кистеров антология раздол туманов страница поэзия век апрель выход роман протей кризис отрывок роман книга раздол туманов страница поэзия век стих поэт перевод оригинал елена кистеров работа год изучение язык перевод поэзия стихотворение классика роберт уильям сервис киплинга стихотворение петербург производство плод работа антология франция сердце стихотворение век участник семинар перевод работа год деньга культура борьба коррупция план перевод велик комплекс книга сборник классика дидерик йоханнес оппермана редактор год 1990-е возможность читатель год главное редактор издательство год престиж бук читатель серия рамка книга приключение фантастика детгиз книга серия дорога тираж качество десятка сотня иллюстрация офсет переплёт книга ассортимент трёхтомник новелла александр грин произведение трилогия мариэтта шагинян месса-мёнда вид текст год роман текст газета серия собрание произведение кона...   \n",
       "3  суд слушание дело экс-депутат дума владивосток зинаида ким председатель участок елена сговор фальсификация результат выборы выборы год сентябрь год журналист видео ким кандидат список собрание край молодая человек участок визит качество вознаграждение избиратель рубль начало процесс зинаида ким журналист тон видео монтаж адвокат внимание участник процесс характеристика подсудимая руководитель организация братство приморье член подсудимая зинаида ким список знак 70-летие победа война 25-летие вывод войско афганистан 20-летие мчс ход заседание адвокат алексей клецкина судья экспертиза видео аудиозапись процесс качество доказательство вина ким защитник сомнение подлинность экспертиза обвинитель прошение защитник судья позиция представитель прокуратура заседание дело зинаида ким елена свидетель редактор издание иван федот журналист маргарита бабченко зинаида ким суд журналист действие дело вознаграждение рубль иван федот ситуация разговор коллега сотрудник редакция зинаида ким заседани...   \n",
       "4  год столица размер результат присоединение часть территория область появление москва мегаполис потенциал рост власть новое обязательство распоряжение земля площадь заключённый мкада состав москва троицкий округа тинао регион особенность процесс освоение власть столица год тинао принцип развитие тинао формирование среда жильё инфраструктура парка обследование эксперт забота лесна массив москва площадь тысяча га привеcть порядок разнообразие москва план столица граница территория территория зона полоса леса мусор борьба жук-короед леса регион строительство подъезд расчистка пруд водоём территория экология регион схема площадь десяток направленность власть москва год округа портал комплекс политика строительство столица ссылка глава департамент развитие территория столица владимир жидкина слово территория га земля активность проект инвестор муниципалитет цифра город ресурс территория жидкина данные портал стройкомплекс мегаполис группа вопрос развитие тинао состав специалист департаме...   \n",
       "\n",
       "                                                                                                                                                                                                                                                                                                                                                                                                                                                                                                                                                                                                                                                                                                                                                                                                                                                                                                                                                                                                                        MY_lemmatized_text  \\\n",
       "0                           [многие, интересоваться, нужный, яблоко, молодежный, фракция, основной, задача, молодежный, яблоко, являться, привлечение, молодой, человек, участие, выборы, деятельность, партия, молодежный, яблоко, работать, регион, единый, руководство, стараться, координировать, свой, деятельность, периодически, проводить, акция, федеральный, уровень, вести, борьба, обязательный, воинский, призыв, военный, это, профессия, обязанность, молодой, человек, вправе, распоряжаться, свой, жизнь, терять, целый, год, отдавать, государство, долг, который, занимать, мнение, ведущий, специалист, область, оборонный, политика, алексей, арбатова, переход, контрактный, армия, стоить, лишь, военный, бюджет, также, федеральный, уровень, молодежный, яблоко, проводить, акция, освобождение, политзаключенный, против, вмешательство, россия, внутренний, политика, украина, рассказывать, московский, активист, виктор, петрунин, год, приходить, полтора, год, назад, переезжать, москва, весь, семья, ...]   \n",
       "1                                                                                                                                                             [вчера, газпром, снижать, верхний, планка, прогноз, собственный, добыча, газ, год, год, концерн, собираться, добывать, около, млрд, куб, м, год, это, общий, производство, газ, страна, расчет, холдинг, должно, достигать, млрд, куб, м, иной, слово, треть, добывать, объем, мнение, холдинг, должный, обеспечивать, независимый, производитель, эксперт, верить, независимый, компания, смочь, выходить, объем, добыча, расчет, газпром, оправдываться, удар, оказываться, отечественный, предприятие, население, который, приходиться, сокращать, потребление, смиряться, новый, виток, цена, иной, путь, покрытие, возможный, дефицит, газ, вряд, холдинг, разрывать, заключенная, контракт, экспорт, газ, страна, газпром, год, планировать, добывать, млрд, куб, м, газ, сообщать, вчера, форум, тэк, россия, ххi, век, глава, управление, добыча, газ, газовый, ...]   \n",
       "2                                                                                               [долголетний, труд, евгения, витковский, нива, перевод, также, качество, редактор, антологист, известный, многие, знать, поэт, прозаик, это, год, выходить, составлять, елена, кистеровой, антология, раздол, туманов, страница, шотландский, гэльский, поэзия, xvii, вв, апрель, запланировать, выход, роман, протей, византийский, кризис, отрывок, роман, читать, побеседовать, книга, выходить, раздол, туманов, страница, шотландский, гэльский, поэзия, xvii, век, это, стих, поэт, перевод, оригинал, елена, кистеровой, работа, занимать, год, включая, изучение, язык, упоительный, интересный, перевод, поэзия, русский, вовсе, должный, выходить, стихотворение, канадский, классика, роберта, уильям, сервис, канадский, киплинг, около, стихотворение, кроме, петербург, производство, наш, огромный, трехтомный, плод, совместный, работа, антология, франция, сердце, это, примерно, стихотворение, xii, век, который, ...]   \n",
       "3                    [ленинский, районный, суд, продолжаться, слушание, дело, экс, дума, владивосток, зинаида, ким, бывший, председатель, избирательный, участок, №\\n, елена, футина, который, обвинять, сговор, фальсификация, результат, выборы, сентябрьский, выборы, год, напоминать, сентябрь, год, местный, журналист, снимать, видео, ким, кандидат, список, законодательный, собрание, приморский, край, выдавать, молодой, человек, открепительный, возить, голосовать, участок, знать, предстоящий, визит, качество, вознаграждение, избиратель, предлагаться, рубль, начало, судебный, процесс, зинаида, ким, разговаривать, журналист, повышенный, тон, обзывать, доказывать, видео, монтаж, адвокат, представлять, внимание, участник, процесс, характеристика, подсудимая, составлять, руководитель, всероссийский, общественный, организация, боевой, братство, приморье, член, который, являться, подсудимая, выясняться, зинаида, ким, богатый, наградной, список, например, памятный, знак, летие, победа, великий, ...]   \n",
       "4  [год, российский, столица, резко, увеличиваться, размер, результат, присоединение, часть, территория, московский, область, появление, новый, москва, предоставлять, мегаполис, потенциал, рост, однако, накладывать, власть, новый, обязательство, поскольку, появляться, распоряжение, земля, инфраструктурно, менее, развитый, площадь, заключенная, внутри, мкад, однако, образовываться, состав, москва, троицкий, новомосковский, административный, округ, тинао, самый, зеленый, регион, особенность, планироваться, сохранять, процесс, освоение, власть, столица, планировать, год, открывать, тинао, парк, главный, принцип, развитие, тинао, формирование, комфортный, современный, городской, среда, жилье, рабочий, место, социальный, транспортный, инфраструктура, который, гармонично, соседствовать, многочисленный, парка, показывать, обследование, эксперт, нужный, забота, весь, лесна, массив, новый, москва, площадь, тыс, га, решать, приводить, порядок, сохранять, ландшафтный, биологический, разнообразие...   \n",
       "\n",
       "                                                                                                                                                                                                                                                                                                                                                                                                                                                                                                                                                                                                                                                                                                                                                                                                                                                                                                                                                                                                                                     tfidf  \\\n",
       "0  {'многие': 0.0020757190728092887, 'интересоваться': 0.005966067293416211, 'нужный': 0.0013869913530080162, 'яблоко': 0.038216853380747845, 'молодежный': 0.031129676907686626, 'фракция': 0.002729775241481989, 'основной': 0.0011518847734428236, 'задача': 0.0036003282060321643, 'являться': 0.0007571574545677665, 'привлечение': 0.0024409199552809582, 'молодой': 0.0055953415604529854, 'человек': 0.0013323345118175347, 'участие': 0.002063824811544627, 'выборы': 0.004469903543260737, 'деятельность': 0.00595473819600125, 'партия': 0.0025840571435144077, 'работать': 0.0018255760812160317, 'регион': 0.0023928631651098046, 'единый': 0.0015173252832647742, 'руководство': 0.00125948772112931, 'стараться': 0.002190265534081776, 'координировать': 0.0038659371943415544, 'свой': 0.0009869380496466372, 'периодически': 0.002911478501476941, 'проводить': 0.004121141189412202, 'акция': 0.014665441095637317, 'федеральный': 0.0030235506944840313, 'уровень': 0.0027806065560067195, 'вести': 0.0013615595873...   \n",
       "1  {'вчера': 0.003162778653140416, 'газпром': 0.0417510265357607, 'снижать': 0.001978101459722028, 'верхний': 0.002723785610006864, 'планка': 0.0036587177802394947, 'прогноз': 0.011835416441245883, 'собственный': 0.0012014621297055206, 'добыча': 0.023840270396313066, 'газ': 0.03526583582230035, 'год': 0.0024574151137706766, 'концерн': 0.008693447954989046, 'собираться': 0.001399999780922712, 'добывать': 0.012854019041431138, 'около': 0.004009113174154569, 'млрд': 0.024775665397617167, 'куб': 0.04848246594214979, 'м': 0.01948752557617032, 'это': 0.000508973631471082, 'общий': 0.0008602689689730986, 'производство': 0.003045332605511835, 'страна': 0.003104554072629913, 'расчет': 0.010270652092158206, 'холдинг': 0.020781396439512975, 'должно': 0.0015686265177424158, 'достигать': 0.0013633132793350576, 'иной': 0.0024693349529673675, 'слово': 0.0016127218828267463, 'треть': 0.003798475749833762, 'объем': 0.0059065819750186545, 'мнение': 0.0017446266154790746, 'должный': 0.004396443784517204...   \n",
       "2  {'долголетний': 0.0032250453059591536, 'труд': 0.0011504044656235474, 'евгения': 0.0019026647021673192, 'витковский': 0.0032250453059591536, 'нива': 0.0026543261017490313, 'перевод': 0.007143505658814942, 'также': 0.0006324693137715426, 'качество': 0.001480310934205015, 'редактор': 0.004805585435844695, 'антологист': 0.0032250453059591536, 'известный': 0.0016346905528150254, 'многие': 0.002104272624648173, 'знать': 0.002178647278660933, 'поэт': 0.004058183728570476, 'прозаик': 0.0021288085253970425, 'это': 0.0010384731988661519, 'год': 0.001462397152034583, 'выходить': 0.005160631336955422, 'составлять': 0.0006505377169842061, 'елена': 0.0032037236238964626, 'кистеровой': 0.006450090611918307, 'антология': 0.004678888005472748, 'раздол': 0.006450090611918307, 'туманов': 0.0062182484755353975, 'страница': 0.004225923214966383, 'шотландский': 0.005607548702560981, 'гэльский': 0.006450090611918307, 'поэзия': 0.006453626126626326, 'xvii': 0.004632703423665604, 'вв': 0.00310912423776769...   \n",
       "3  {'ленинский': 0.0071430956713514305, 'районный': 0.006644258246285935, 'суд': 0.010215895928099187, 'продолжаться': 0.003412512490824811, 'слушание': 0.006367400742622912, 'дело': 0.003542591848694226, 'экс': 0.004617042873499885, 'дума': 0.004665769369805105, 'владивосток': 0.011786111960769789, 'зинаида': 0.0451483181419212, 'ким': 0.06154537299506462, 'бывший': 0.008069382868868815, 'председатель': 0.00300855700800499, 'избирательный': 0.008844574207152905, 'участок': 0.006958054613212072, '№\n",
       "': 0.004367062393145572, 'елена': 0.009364730592928121, 'футина': 0.03459648112352953, 'который': 0.000542300206091058, 'обвинять': 0.0037068243495839855, 'сговор': 0.007229891418641752, 'фальсификация': 0.01354174846917638, 'результат': 0.001610522478581482, 'выборы': 0.005886935901963442, 'сентябрьский': 0.008374503077335215, 'год': 0.0011399198313295214, 'напоминать': 0.0021730918093879324, 'сентябрь': 0.003398118902730992, 'местный': 0.0027307761159434995, 'журналист': 0.012168714308825...   \n",
       "4  {'год': 0.0009282946234631067, 'российский': 0.0013784176424248983, 'столица': 0.012140292625674542, 'резко': 0.002776803237043713, 'увеличиваться': 0.0026385393638008623, 'размер': 0.0025364611305061873, 'результат': 0.002098448423117557, 'присоединение': 0.003353355499792685, 'часть': 0.0009455683565697613, 'территория': 0.012231592114999978, 'московский': 0.0035762198954071805, 'область': 0.0015445599365286051, 'появление': 0.002375684195914599, 'новый': 0.006786630643930854, 'москва': 0.010485234634802472, 'предоставлять': 0.002291439170280955, 'мегаполис': 0.007538702462977802, 'потенциал': 0.0025429482441117145, 'рост': 0.0016628613736738502, 'однако': 0.001782798780809771, 'накладывать': 0.005054707565061937, 'власть': 0.003117629128836227, 'обязательство': 0.002785081789788803, 'поскольку': 0.0015493161056895726, 'появляться': 0.0026869110112760926, 'распоряжение': 0.0031534943387838232, 'земля': 0.00382831877164384, 'инфраструктурно': 0.006827261666163631, 'менее': 0.00279...   \n",
       "\n",
       "                                                                                                                                                                                                                                                                                                                                                                                                                                                                                                                    ...                                                                                                                                                                                                                                                                                                                                                                                                                                                                                                                     \\\n",
       "0                                                                                                                                                                                                                                                                                                                                                                                                                                                                                                                   ...                                                                                                                                                                                                                                                                                                                                                                                                                                                                                                                      \n",
       "1                                                                                                                                                                                                                                                                                                                                                                                                                                                                                                                   ...                                                                                                                                                                                                                                                                                                                                                                                                                                                                                                                      \n",
       "2                                                                                                                                                                                                                                                                                                                                                                                                                                                                                                                   ...                                                                                                                                                                                                                                                                                                                                                                                                                                                                                                                      \n",
       "3                                                                                                                                                                                                                                                                                                                                                                                                                                                                                                                   ...                                                                                                                                                                                                                                                                                                                                                                                                                                                                                                                      \n",
       "4                                                                                                                                                                                                                                                                                                                                                                                                                                                                                                                   ...                                                                                                                                                                                                                                                                                                                                                                                                                                                                                                                      \n",
       "\n",
       "                                                                                                                                                                                                                                                                                                                                                                                                                                                                                                                                                                                                                                                                                                                                                                                                                                                                                                                                                                                                                                    tfidf2  \\\n",
       "0  {'яблоко': 0.07739255254524206, 'фракция': 0.00552803946751729, 'задача': 0.007290987227269437, 'привлечение': 0.004943081629870041, 'человек': 0.0026939104570780133, 'участие': 0.004173437444265348, 'выборы': 0.008285677056327705, 'деятельность': 0.012058878425593928, 'партия': 0.005232947261955701, 'регион': 0.004845762323609461, 'руководство': 0.0025505754926095346, 'акция': 0.029698832326290624, 'уровень': 0.00562313556311375, 'борьба': 0.004898212552521008, 'призыв': 0.004330798407420851, 'военный': 0.004924439358594743, 'профессия': 0.0054224660648711405, 'обязанность': 0.005121742463723437, 'жизнь': 0.004786111153311286, 'год': 0.0023521710343748256, 'государство': 0.001932924640544235, 'долг': 0.004961949873570245, 'мнение': 0.0018665628843028807, 'специалист': 0.00289188592571879, 'область': 0.002430329075756479, 'политика': 0.008407034237542998, 'алексей': 0.0031360286493656176, 'арбатов': 0.009663576615705565, 'переход': 0.003931185458026393, 'армия': 0.00368704273437956...   \n",
       "1  {'газпром': 0.07288117790014367, 'планка': 0.0064883526931643, 'прогноз': 0.020660069050946757, 'добыча': 0.041615910604090346, 'газ': 0.06185079642264417, 'год': 0.004317471832832738, 'концерн': 0.014974853158625578, 'млрд': 0.043248749246717684, 'куб': 0.08199132513766164, 'м': 0.0331427475662074, 'производство': 0.005315975337691712, 'страна': 0.005419353161871515, 'расчет': 0.01792859444157441, 'холдинг': 0.036276297293535806, 'слово': 0.002759399824432286, 'треть': 0.006630672580850163, 'объем': 0.010310612394988703, 'мнение': 0.003045444705967858, 'производитель': 0.03132529765587652, 'эксперт': 0.005027222333581983, 'компания': 0.003905087673010475, 'удар': 0.0063509372088061825, 'предприятие': 0.009003125092748386, 'население': 0.009103741208585923, 'потребление': 0.01930517926638841, 'виток': 0.00620499008202963, 'цена': 0.010952865860727745, 'путь': 0.0019058308213062735, 'покрытие': 0.005662193073369071, 'дефицит': 0.008497659807576365, 'контракт': 0.007669158671599826, ...   \n",
       "2  {'труд': 0.002478706529023932, 'евгений': 0.002993498195756207, 'витковский': 0.006948808958200651, 'нива': 0.005719115002737604, 'перевод': 0.015391677141157967, 'качество': 0.0031895359304004965, 'редактор': 0.010317603400239125, 'антологист': 0.006948808958200651, 'поэт': 0.008743921641971436, 'прозаик': 0.009173628490886224, 'год': 0.00317133884628178, 'елена': 0.006902868426745987, 'кистеровой': 0.013897617916401301, 'антология': 0.010081315393235098, 'раздол': 0.013897617916401301, 'туманов': 0.01339808176687524, 'страница': 0.009079996593887084, 'поэзия': 0.0139052356748959, 'апрель': 0.002615712985583159, 'выход': 0.002311333315279049, 'роман': 0.028772017504253677, 'протей': 0.013897617916401301, 'кризис': 0.0026512498012677805, 'отрывок': 0.005265271551563168, 'книга': 0.02415470007710848, 'век': 0.007382829940186664, 'стих': 0.009079996593887084, 'оригинал': 0.004811428100388732, 'работа': 0.003833561035919176, 'изучение': 0.0034392011334130413, 'язык': 0.004386803277152...   \n",
       "3  {'суд': 0.01512582751676524, 'слушание': 0.010061196753536755, 'дело': 0.0055976865675499915, 'экс': 0.007295437910613079, 'депутат': 0.005173867575095151, 'дума': 0.007372431158918563, 'владивосток': 0.018623359230829608, 'зинаида': 0.07133933142867105, 'ким': 0.09724848992590321, 'председатель': 0.004736402127318218, 'участок': 0.010994495134688687, 'елена': 0.01479730911368753, 'футина': 0.05466626299077042, 'сговор': 0.011424027324483652, 'фальсификация': 0.02139745890709638, 'результат': 0.0025448034744436675, 'выборы': 0.008514563162856092, 'год': 0.00181286110107894, 'сентябрь': 0.005335687332564695, 'журналист': 0.01922791321726025, 'видео': 0.045987000318514604, 'кандидат': 0.0055212419375696604, 'список': 0.01106665941268822, 'собрание': 0.0058433625349569905, 'край': 0.006506209590629642, 'человек': 0.0013841639365096972, 'визит': 0.006506209590629642, 'качество': 0.006837237243068468, 'вознаграждение': 0.024135409003347826, 'избиратель': 0.006816242419242523, 'рубль': 0...   \n",
       "4  {'год': 0.0017528197611927786, 'столица': 0.02268969494945034, 'размер': 0.004758574514069301, 'результат': 0.0039368327254214, 'присоединение': 0.00629112420687602, 'часть': 0.0017739508911714754, 'территория': 0.022947303155918763, 'область': 0.0028977000518634944, 'появление': 0.004456945991480808, 'москва': 0.01937345463271714, 'мегаполис': 0.014143121287381434, 'потенциал': 0.004770744782756593, 'рост': 0.0031146322969861943, 'власть': 0.005848885416919246, 'обязательство': 0.005225003870586687, 'распоряжение': 0.005916171003102985, 'земля': 0.007169276746586191, 'площадь': 0.04573979326906588, 'мкад': 0.011521956734110482, 'состав': 0.006686530114513984, 'троицкий': 0.02411176591786456, 'округ': 0.01098598839662088, 'тинао': 0.06913174040466288, 'регион': 0.011555279387068717, 'особенность': 0.004795327384846727, 'процесс': 0.0027195947930451028, 'освоение': 0.0064053731523770665, 'парк': 0.086206589344902, 'принцип': 0.0034721215411463047, 'развитие': 0.013847262695959619, '...   \n",
       "\n",
       "                                                                                                                                                                                                                                                                                                                                                                                                                                                                                                                                                                                                                                                                                                                                                                                                                                                                                                                                                                                                                          order_by_tfidf_2  \\\n",
       "0  [яблоко, активист, акция, дарья, тимур, репрессия, виктор, деятельность, петрунин, новичков, обществознание, дадина, ставрополец, электроцинк, черносотенец, куашев, мартов, силовик, насилие, марта, кинопоказ, ильдар, декриминализация, освобождение, убийство, паблик, отделение, арбатов, молодежь, керенский, политзаключенный, немцов, политика, правонарушение, застой, выборы, искренность, честность, пародия, неготовность, сизо, яблочник, карелия, консерватизм, апатия, задача, колония, кандидат, ровесник, кампания, последовательность, ельцин, женщина, украшение, мероприятие, единомышленник, убийца, свобода, украина, всплеск, открытость, власть, заинтересованность, наркотик, явлинский, лишение, лекция, солидарность, кирилл, заведение, уровень, фракция, уважение, подросток, профессия, преподаватель, ребята, вступление, партия, альтернатива, фотография, обязанность, основатель, лозунг, заявка, вмешательство, наступление, григорий, долг, привлечение, военный, борьба, пропаганда, детство, п...   \n",
       "1                                                                  [куб, газпром, газ, млрд, добыча, холдинг, м, производитель, прогноз, кубометр, потребление, минликаев, ананенков, расчет, концерн, аналитик, месторождение, монополист, миллиард, экспорт, цена, поставка, объем, снг, надым, ямбург, раскладка, население, предприятие, конденсат, собинбанк, занозин, расценка, дефицит, уренгой, потребитель, минпромэнерго, контракт, новатэк, разведка, запас, лукойл, вр, аппетит, балтия, рукав, треть, ямал, отдача, прибалтика, планка, аудит, тэк, козырь, удар, роснефть, виток, триллион, банкротство, ценообразование, скачок, покрытие, показатель, страна, минэкономразвития, производство, план, отход, тепло, шельф, рынок, эксперт, зампред, тариф, управляющий, декларация, экономия, европа, трлн, год, правление, консультация, счет, стадия, валерий, стремление, конкурент, компания, внедрение, топливо, иван, потребность, форум, нефть, представление, промышленность, лето, сокращение, море, уровень, ...]   \n",
       "2                                                                                                             [роман, мениппея, книга, жанр, стихотворение, читатель, перевод, поэзия, кистеровой, раздол, протей, туманов, реквием, произведение, редактор, престол, антология, наследник, рецензия, герой, классик, прозаик, страница, стих, павел, серия, поэт, текст, век, сюжет, петербург, дата, витковский, антологист, киплинг, дидерика, опперман, офсет, мариэтта, шагинян, менд, дойла, щепетнев, чертовар, пенталогия, назойливость, рабле, маркес, прапрадед, колер, локаль, елена, йоханнес, бук, детгиз, грин, конан, кузьмич, босх, печатание, гнет, бисер, борхеса, этикетка, переплет, ассортимент, архетип, мифология, гессе, насмешка, рассудок, трехтомник, месса, фантаст, кристалл, кржижановский, перекресток, горечь, кихот, рига, александр, донос, фанат, фонтанка, мир, нива, новелла, чума, рука, витта, маргарита, конфета, купец, событие, искусствовед, эпопея, ракурс, лабиринт, собрание, писатель, ...]   \n",
       "3                                                            [ким, зинаида, футина, видео, подсудимая, федотов, экспертиза, свидетель, монтаж, вознаграждение, приморье, летие, фальсификация, рубль, журналист, владивосток, клецкин, бабченко, видеограф, губарев, адвокат, защитник, заседание, судья, обвинитель, склейка, субтитр, видеодоказательство, аудиозапись, суд, елена, иван, прошение, подлинность, наложение, ск, размер, маргарита, сговор, братство, манипуляция, список, ролик, участок, процесс, мчс, су, слушание, фрагмент, даниил, лишение, плата, тон, срок, прокуратура, штраф, документ, референдум, выборы, корреспондент, афганистан, редакция, компьютер, характеристика, вина, обязанность, кадр, телефон, дума, редактор, тыс, экс, запрос, знак, доказательство, качество, избиратель, процедура, доход, край, визит, сомнение, сайт, собрание, войско, агентство, издание, дело, кандидат, разговор, сентябрь, материал, депутат, коллега, вывод, свобода, победа, алексей, председатель, сотрудник, ...]   \n",
       "4                 [парк, га, тинао, площадь, жидкин, троицкий, территория, столица, москва, поселение, департамент, благоустройство, мегаполис, коммунарка, остафьево, товарищево, развитие, портал, москомархитектура, велодорожка, поселок, лес, стройкомплекс, пахра, бутово, спорт, регион, мкад, короед, сосна, спортплощадка, округ, зона, парка, расчистка, конкурс, ручеек, жук, общественник, обследование, ирландия, пожарный, соискатель, пруд, сквер, водоем, застройка, комплекс, направленность, нидерланды, подъезд, муниципалитет, кафе, победа, гигант, массив, пространство, мусор, бюро, швейцария, жилье, земля, строительство, забота, разнообразие, испания, деревня, состав, полоса, любитель, освоение, присоединение, экология, инвестор, москвич, распоряжение, летие, власть, италия, ссылка, тыс, схема, хозяйство, обязательство, концепция, цифра, готовность, проект, вид, особенность, множество, потенциал, размер, инфраструктура, активность, октябрь, появление, великобритания, выбор, сентябрь, ...]   \n",
       "\n",
       "                                 MY_nouns_only_2  \\\n",
       "0        [яблоко, активист, акция, дарья, тимур]   \n",
       "1              [куб, газпром, газ, млрд, добыча]   \n",
       "2  [роман, мениппея, книга, жанр, стихотворение]   \n",
       "3      [ким, зинаида, футина, видео, подсудимая]   \n",
       "4             [парк, га, тинао, площадь, жидкин]   \n",
       "\n",
       "                                   MY_lemmatized_title_2  \\\n",
       "0                                 [яблоко, деятельность]   \n",
       "1                                              [газпром]   \n",
       "2                                      [партия, шахматы]   \n",
       "3  [экс, депутат, фальсификация, выборы, член, братство]   \n",
       "4                     [москва, территория, безопасность]   \n",
       "\n",
       "                                                                                     title+text_2  \\\n",
       "0                                           [тимур, акция, яблоко, активист, дарья, деятельность]   \n",
       "1                                                               [газпром, млрд, добыча, газ, куб]   \n",
       "2                                  [жанр, роман, партия, стихотворение, книга, мениппея, шахматы]   \n",
       "3  [депутат, ким, член, зинаида, выборы, футина, видео, подсудимая, экс, братство, фальсификация]   \n",
       "4                            [жидкин, тинао, га, москва, территория, безопасность, парк, площадь]   \n",
       "\n",
       "                                                                                title+text_2_without_names  \\\n",
       "0                                                    [акция, яблоко, активист, деятельность, лидер яблоко]   \n",
       "1                                                              [газпром, млрд, добыча, газ, куб, млрд куб]   \n",
       "2                            [жанр, роман, партия, стихотворение, книга, мениппея, шахматы, москва россия]   \n",
       "3  [депутат, ким, член, выборы, футина, видео, подсудимая, экс, братство, фальсификация, год сентябрь год]   \n",
       "4                         [жидкин, тинао, га, москва, территория, безопасность, парк, площадь, площадь га]   \n",
       "\n",
       "                                                                      title+text_2_without_common  \\\n",
       "0                                           [тимур, акция, яблоко, активист, дарья, деятельность]   \n",
       "1                                                               [газпром, млрд, добыча, газ, куб]   \n",
       "2                                  [жанр, роман, партия, стихотворение, книга, мениппея, шахматы]   \n",
       "3  [депутат, ким, член, зинаида, выборы, футина, видео, подсудимая, экс, братство, фальсификация]   \n",
       "4                                    [жидкин, тинао, га, территория, безопасность, парк, площадь]   \n",
       "\n",
       "                                                                                                                                                                                                                                                                                                                                                                                                                                                                                                                                                                                                                                                                                                                                                                                                                                                                                                                                                                                                                      MY_lemmatized_text_3  \\\n",
       "0  яблоко фракция задача яблоко привлечение человек участие выборы деятельность партия яблоко регион руководство деятельность акция уровень борьба призыв военный профессия обязанность человек жизнь год государство долг мнение специалист область политика алексей арбатов переход армия бюджет уровень яблоко акция освобождение политзаключенный вмешательство россия политика украина активист виктор петрунин год год москва семья взгляд виктор детство политика виктор власть крым война украина убийство борис немцов сторона школа сила смена власть россия дарья новичков влияние преподаватель обществознание ситуация страна искренность заинтересованность вопрос дарья материал сми время наблюдение позиция образ команда единомышленник пример ровесник дарья яблоко яблоко клуб рамка лекция кинопоказ тема наступление консерватизм обсуждение альтернатива ситуация экономика участник стол мероприятие место дискуссия участие гость яблоко повестка ноябрь год карелия акция свобода ильдар дадина колония проце...   \n",
       "1  газпром планка прогноз добыча газ год год концерн млрд куб м год производство газ страна расчет холдинг млрд куб м слово треть объем мнение холдинг производитель эксперт компания объем добыча расчет газпром удар предприятие население потребление виток цена путь покрытие дефицит газ холдинг контракт экспорт газ страна газпром год млрд куб м газ форум тэк россия век глава управление добыча газ конденсат нефть холдинг валерий минликаев прогноз добыча газ лето год зампред правление концерн александр ананенков слово ананенков газпром год млрд куб м год прогноз газпром стратегия правительство добыча газ холдинг представление минпромэнерго минэкономразвития добыча газ россия год уровень млрд куб м слово минликаев год добыча газ россия млрд куб м расчет газпром млрд куб м половина треть год добыча производитель счет газпром рука месторождение страна мнение нга эксперт заявление представитель газпром сторона отход прогноз план итог год концерн млрд куб м газ год год показатель газпром добыч...   \n",
       "2  труд евгений витковский нива перевод качество редактор антологист поэт прозаик год елена кистеровой антология раздол туманов страница поэзия апрель выход роман протей кризис отрывок роман книга раздол туманов страница поэзия век стих поэт перевод оригинал елена кистеровой работа год изучение язык перевод поэзия стихотворение классик роберт уильям сервис киплинг стихотворение петербург производство плод работа антология франция сердце стихотворение век участник семинар век перевод работа год деньги культура борьба коррупция план перевод комплекс книга сборник классик дидерика йоханнес опперман редактор год е возможность читатель год редактор издательство год престиж бук читатель серия рамка книга приключение фантастика детгиз книга серия тираж качество десяток сотня иллюстрация офсет переплет т д книга ассортимент трехтомник новелла александр грин произведение трилогия мариэтта шагинян месса менд вид текст год роман текст газета серия собрание произведение конан дойла рассказ стих с...   \n",
       "3  суд слушание дело экс депутат дума владивосток зинаида ким председатель участок елена футина сговор фальсификация результат выборы выборы год сентябрь год журналист видео ким кандидат список собрание край человек участок визит качество вознаграждение избиратель рубль начало процесс зинаида ким журналист тон видео монтаж адвокат внимание участник процесс характеристика подсудимая руководитель организация братство приморье член подсудимая зинаида ким список знак летие победа война летие вывод войско афганистан летие мчс ход заседание адвокат алексей клецкин судья экспертиза видео аудиозапись процесс качество доказательство вина ким футина защитник сомнение подлинность экспертиза обвинитель прошение защитник судья позиция представитель прокуратура заседание дело зинаида ким елена футина свидетель редактор издание иван федотов журналист маргарита бабченко зинаида ким суд журналист действие дело вознаграждение рубль иван федотов ситуация разговор коллега сотрудник редакция зинаида ким з...   \n",
       "4  год столица размер результат присоединение часть территория область появление москва мегаполис потенциал рост власть обязательство распоряжение земля площадь мкад состав москва троицкий округ тинао регион особенность процесс освоение власть столица год тинао парк принцип развитие тинао формирование среда жилье место инфраструктура парка обследование эксперт забота массив москва площадь тыс га порядок разнообразие москва план столица граница территория территория зона полоса лес мусор борьба жук короед лес регион строительство пожарный подъезд расчистка пруд водоем территория экология регион схема площадь десяток парк направленность власть москва год парк троицкий округ портал комплекс политика строительство столица ссылка глава департамент развитие территория столица владимир жидкин слово территория га земля активность проект инвестор муниципалитет цифра город ресурс территория жидкин данные портал стройкомплекс мегаполис группа вопрос развитие парк тинао состав специалист департам...   \n",
       "\n",
       "                                                                                                                                                                                                                                                                                                                                                                                                                                                                                                                                                                                                                                                                                                                                                                                                                                                                                                                                                      with_ngrams  \\\n",
       "0  [яблоко, фракция, задача, яблоко, привлечение, человек, участие, выборы, деятельность, партия, яблоко, регион, руководство, деятельность, акция, уровень, борьба, призыв, военный, профессия, обязанность, человек, жизнь, год, государство, долг, мнение, специалист, область, политика, алексей, арбатов, переход, армия, бюджет, уровень, яблоко, акция, освобождение, политзаключенный, вмешательство, россия, политика, украина, активист, виктор, петрунин, год, год, москва, семья, взгляд, виктор, детство, политика, виктор, власть, крым, война, украина, убийство, борис, немцов, сторона, школа, сила, смена, власть, россия, дарья, новичков, влияние, преподаватель, обществознание, ситуация, страна, искренность, заинтересованность, вопрос, дарья, материал, сми, время, наблюдение, позиция, образ, команда, единомышленник, пример, ровесник, дарья, яблоко, яблоко, клуб, рамка, лекция, кинопоказ, тема, наступление, консерватизм, ...]   \n",
       "1                                                                                                                                 [газпром, планка, прогноз, добыча, газ, год, год, концерн, млрд, куб, м, год, производство, газ, страна, расчет, холдинг, млрд, куб, м, слово, треть, объем, мнение, холдинг, производитель, эксперт, компания, объем, добыча, расчет, газпром, удар, предприятие, население, потребление, виток, цена, путь, покрытие, дефицит, газ, холдинг, контракт, экспорт, газ, страна, газпром, год, млрд, куб, м, газ, форум, тэк, россия, век, глава, управление, добыча, газ, конденсат, нефть, холдинг, валерий, минликаев, прогноз, добыча, газ, лето, год, зампред, правление, концерн, александр, ананенков, слово, ананенков, газпром, год, млрд, куб, м, год, прогноз, газпром, стратегия, правительство, добыча, газ, холдинг, представление, минпромэнерго, минэкономразвития, добыча, газ, россия, год, уровень, млрд, ...]   \n",
       "2                                                             [труд, евгений, витковский, нива, перевод, качество, редактор, антологист, поэт, прозаик, год, елена, кистеровой, антология, раздол, туманов, страница, поэзия, апрель, выход, роман, протей, кризис, отрывок, роман, книга, раздол, туманов, страница, поэзия, век, стих, поэт, перевод, оригинал, елена, кистеровой, работа, год, изучение, язык, перевод, поэзия, стихотворение, классик, роберт, уильям, сервис, киплинг, стихотворение, петербург, производство, плод, работа, антология, франция, сердце, стихотворение, век, участник, семинар, век, перевод, работа, год, деньги, культура, борьба, коррупция, план, перевод, комплекс, книга, сборник, классик, дидерика, йоханнес, опперман, редактор, год, е, возможность, читатель, год, редактор, издательство, год, престиж, бук, читатель, серия, рамка, книга, приключение, фантастика, детгиз, книга, серия, тираж, качество, ...]   \n",
       "3                            [суд, слушание, дело, экс, депутат, дума, владивосток, зинаида, ким, председатель, участок, елена, футина, сговор, фальсификация, результат, выборы, выборы, год, сентябрь, год, журналист, видео, ким, кандидат, список, собрание, край, человек, участок, визит, качество, вознаграждение, избиратель, рубль, начало, процесс, зинаида, ким, журналист, тон, видео, монтаж, адвокат, внимание, участник, процесс, характеристика, подсудимая, руководитель, организация, братство, приморье, член, подсудимая, зинаида, ким, список, знак, летие, победа, война, летие, вывод, войско, афганистан, летие, мчс, ход, заседание, адвокат, алексей, клецкин, судья, экспертиза, видео, аудиозапись, процесс, качество, доказательство, вина, ким, футина, защитник, сомнение, подлинность, экспертиза, обвинитель, прошение, защитник, судья, позиция, представитель, прокуратура, заседание, дело, зинаида, ким, елена, футина, ...]   \n",
       "4                             [год, столица, размер, результат, присоединение, часть, территория, область, появление, москва, мегаполис, потенциал, рост, власть, обязательство, распоряжение, земля, площадь, мкад, состав, москва, троицкий, округ, тинао, регион, особенность, процесс, освоение, власть, столица, год, тинао, парк, принцип, развитие, тинао, формирование, среда, жилье, место, инфраструктура, парка, обследование, эксперт, забота, массив, москва, площадь, тыс, га, порядок, разнообразие, москва, план, столица, граница, территория, территория, зона, полоса, лес, мусор, борьба, жук, короед, лес, регион, строительство, пожарный, подъезд, расчистка, пруд, водоем, территория, экология, регион, схема, площадь, десяток, парк, направленность, власть, москва, год, парк, троицкий, округ, портал, комплекс, политика, строительство, столица, ссылка, глава, департамент, развитие, территория, столица, владимир, жидкин, ...]   \n",
       "\n",
       "                                                                                                                                                                                                                                                                                                                                                                                                                                                                                                                                                                                                                                                                                                                                                                                                                                                                                                                                                                                                                                 for_graph  \n",
       "0                           [многие, интересоваться, нужный, яблоко, молодежный, фракция, основной, задача, молодежный, яблоко, являться, привлечение, молодой, человек, участие, выборы, деятельность, партия, молодежный, яблоко, работать, регион, единый, руководство, стараться, координировать, свой, деятельность, периодически, проводить, акция, федеральный, уровень, вести, борьба, обязательный, воинский, призыв, военный, это, профессия, обязанность, молодой, человек, вправе, распоряжаться, свой, жизнь, терять, целый, год, отдавать, государство, долг, который, занимать, мнение, ведущий, специалист, область, оборонный, политика, алексей, арбатова, переход, контрактный, армия, стоить, лишь, военный, бюджет, также, федеральный, уровень, молодежный, яблоко, проводить, акция, освобождение, политзаключенный, против, вмешательство, россия, внутренний, политика, украина, рассказывать, московский, активист, виктор, петрунин, год, приходить, полтора, год, назад, переезжать, москва, весь, семья, ...]  \n",
       "1                                                                                                                                                             [вчера, газпром, снижать, верхний, планка, прогноз, собственный, добыча, газ, год, год, концерн, собираться, добывать, около, млрд, куб, м, год, это, общий, производство, газ, страна, расчет, холдинг, должно, достигать, млрд, куб, м, иной, слово, треть, добывать, объем, мнение, холдинг, должный, обеспечивать, независимый, производитель, эксперт, верить, независимый, компания, смочь, выходить, объем, добыча, расчет, газпром, оправдываться, удар, оказываться, отечественный, предприятие, население, который, приходиться, сокращать, потребление, смиряться, новый, виток, цена, иной, путь, покрытие, возможный, дефицит, газ, вряд, холдинг, разрывать, заключенная, контракт, экспорт, газ, страна, газпром, год, планировать, добывать, млрд, куб, м, газ, сообщать, вчера, форум, тэк, россия, ххi, век, глава, управление, добыча, газ, газовый, ...]  \n",
       "2                                                                                               [долголетний, труд, евгения, витковский, нива, перевод, также, качество, редактор, антологист, известный, многие, знать, поэт, прозаик, это, год, выходить, составлять, елена, кистеровой, антология, раздол, туманов, страница, шотландский, гэльский, поэзия, xvii, вв, апрель, запланировать, выход, роман, протей, византийский, кризис, отрывок, роман, читать, побеседовать, книга, выходить, раздол, туманов, страница, шотландский, гэльский, поэзия, xvii, век, это, стих, поэт, перевод, оригинал, елена, кистеровой, работа, занимать, год, включая, изучение, язык, упоительный, интересный, перевод, поэзия, русский, вовсе, должный, выходить, стихотворение, канадский, классика, роберта, уильям, сервис, канадский, киплинг, около, стихотворение, кроме, петербург, производство, наш, огромный, трехтомный, плод, совместный, работа, антология, франция, сердце, это, примерно, стихотворение, xii, век, который, ...]  \n",
       "3                    [ленинский, районный, суд, продолжаться, слушание, дело, экс, дума, владивосток, зинаида, ким, бывший, председатель, избирательный, участок, №\\n, елена, футина, который, обвинять, сговор, фальсификация, результат, выборы, сентябрьский, выборы, год, напоминать, сентябрь, год, местный, журналист, снимать, видео, ким, кандидат, список, законодательный, собрание, приморский, край, выдавать, молодой, человек, открепительный, возить, голосовать, участок, знать, предстоящий, визит, качество, вознаграждение, избиратель, предлагаться, рубль, начало, судебный, процесс, зинаида, ким, разговаривать, журналист, повышенный, тон, обзывать, доказывать, видео, монтаж, адвокат, представлять, внимание, участник, процесс, характеристика, подсудимая, составлять, руководитель, всероссийский, общественный, организация, боевой, братство, приморье, член, который, являться, подсудимая, выясняться, зинаида, ким, богатый, наградной, список, например, памятный, знак, летие, победа, великий, ...]  \n",
       "4  [год, российский, столица, резко, увеличиваться, размер, результат, присоединение, часть, территория, московский, область, появление, новый, москва, предоставлять, мегаполис, потенциал, рост, однако, накладывать, власть, новый, обязательство, поскольку, появляться, распоряжение, земля, инфраструктурно, менее, развитый, площадь, заключенная, внутри, мкад, однако, образовываться, состав, москва, троицкий, новомосковский, административный, округ, тинао, самый, зеленый, регион, особенность, планироваться, сохранять, процесс, освоение, власть, столица, планировать, год, открывать, тинао, парк, главный, принцип, развитие, тинао, формирование, комфортный, современный, городской, среда, жилье, рабочий, место, социальный, транспортный, инфраструктура, который, гармонично, соседствовать, многочисленный, парка, показывать, обследование, эксперт, нужный, забота, весь, лесна, массив, новый, москва, площадь, тыс, га, решать, приводить, порядок, сохранять, ландшафтный, биологический, разнообразие...  \n",
       "\n",
       "[5 rows x 25 columns]"
      ]
     },
     "execution_count": 834,
     "metadata": {},
     "output_type": "execute_result"
    }
   ],
   "source": [
    "data.head()"
   ]
  },
  {
   "cell_type": "markdown",
   "metadata": {},
   "source": [
    "# Результат:\n",
    "## Увеличило F1:\n",
    "1) **F1 = 0.18** Нормализация c помощью mystem и нахождение tfidf \"вручную\"\n",
    "\n",
    "2) **F1 = 0.19** Добавление существительных из заголовка\n",
    "\n",
    "3) **F1 = 0.19** Узлы графа, взвешанные по tfidf\n",
    "\n",
    "4) **F1 = 0.21** Pos-tagging на основе контекста + добавление существительных из заголовка\n",
    "\n",
    "## Никак не повлияло:\n",
    "\n",
    "1) Удаление имён\n",
    "\n",
    "2) Удаление частотных слов по корпусу\n"
   ]
  }
 ],
 "metadata": {
  "kernelspec": {
   "display_name": "Python 3",
   "language": "python",
   "name": "python3"
  },
  "language_info": {
   "codemirror_mode": {
    "name": "ipython",
    "version": 3
   },
   "file_extension": ".py",
   "mimetype": "text/x-python",
   "name": "python",
   "nbconvert_exporter": "python",
   "pygments_lexer": "ipython3",
   "version": "3.6.3"
  }
 },
 "nbformat": 4,
 "nbformat_minor": 2
}
